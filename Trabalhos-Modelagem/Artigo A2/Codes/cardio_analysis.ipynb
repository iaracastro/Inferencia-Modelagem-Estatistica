{
 "cells": [
  {
   "cell_type": "code",
   "execution_count": 23,
   "metadata": {
    "vscode": {
     "languageId": "r"
    }
   },
   "outputs": [],
   "source": [
    "library(tidyverse)\n",
    "library(GGally)  # ggpairs\n",
    "library(MuMIn)  # AICc (Akaike Information Criterion corrected for small sample size)\n",
    "library(MASS)  # negative.binomial\n",
    "library(readr)\n",
    "library(ggplot2)\n",
    "library(gridExtra)\n",
    "library(rstanarm)\n",
    "library(pROC)\n",
    "library(boot)\n",
    "library(foreign)\n",
    "library(arm)\n",
    "library(lattice)\n",
    "library(lme4)\n",
    "library(dplyr)\n",
    "library(parallel)\n",
    "library(caret)\n",
    "library(klaR)\n",
    "library(e1071)\n",
    "library(randomForest)\n",
    "library(glmnet)\n",
    "library(broom)\n",
    "\n",
    "source(\"functions.r\")\n",
    "data <- read_csv(\"cardio_train_clean.csv\", col_types = cols())"
   ]
  },
  {
   "cell_type": "code",
   "execution_count": 24,
   "metadata": {
    "vscode": {
     "languageId": "r"
    }
   },
   "outputs": [
    {
     "data": {
      "text/html": [
       "<table class=\"dataframe\">\n",
       "<caption>A tibble: 6 × 14</caption>\n",
       "<thead>\n",
       "\t<tr><th scope=col>id</th><th scope=col>age</th><th scope=col>gender</th><th scope=col>height</th><th scope=col>weight</th><th scope=col>ap_hi</th><th scope=col>ap_lo</th><th scope=col>cholesterol</th><th scope=col>gluc</th><th scope=col>smoke</th><th scope=col>alco</th><th scope=col>active</th><th scope=col>cardio</th><th scope=col>IMC</th></tr>\n",
       "\t<tr><th scope=col>&lt;dbl&gt;</th><th scope=col>&lt;dbl&gt;</th><th scope=col>&lt;dbl&gt;</th><th scope=col>&lt;dbl&gt;</th><th scope=col>&lt;dbl&gt;</th><th scope=col>&lt;dbl&gt;</th><th scope=col>&lt;dbl&gt;</th><th scope=col>&lt;dbl&gt;</th><th scope=col>&lt;dbl&gt;</th><th scope=col>&lt;dbl&gt;</th><th scope=col>&lt;dbl&gt;</th><th scope=col>&lt;dbl&gt;</th><th scope=col>&lt;dbl&gt;</th><th scope=col>&lt;dbl&gt;</th></tr>\n",
       "</thead>\n",
       "<tbody>\n",
       "\t<tr><td>0</td><td>0</td><td>1</td><td>168</td><td>62</td><td>110</td><td> 80</td><td>1</td><td>1</td><td>0</td><td>0</td><td>1</td><td>0</td><td>21.96712</td></tr>\n",
       "\t<tr><td>1</td><td>0</td><td>0</td><td>156</td><td>85</td><td>140</td><td> 90</td><td>3</td><td>1</td><td>0</td><td>0</td><td>1</td><td>1</td><td>34.92768</td></tr>\n",
       "\t<tr><td>2</td><td>0</td><td>0</td><td>165</td><td>64</td><td>130</td><td> 70</td><td>3</td><td>1</td><td>0</td><td>0</td><td>0</td><td>1</td><td>23.50781</td></tr>\n",
       "\t<tr><td>3</td><td>0</td><td>1</td><td>169</td><td>82</td><td>150</td><td>100</td><td>1</td><td>1</td><td>0</td><td>0</td><td>1</td><td>1</td><td>28.71048</td></tr>\n",
       "\t<tr><td>4</td><td>0</td><td>0</td><td>156</td><td>56</td><td>100</td><td> 60</td><td>1</td><td>1</td><td>0</td><td>0</td><td>0</td><td>0</td><td>23.01118</td></tr>\n",
       "\t<tr><td>8</td><td>0</td><td>0</td><td>151</td><td>67</td><td>120</td><td> 80</td><td>2</td><td>2</td><td>0</td><td>0</td><td>0</td><td>0</td><td>29.38468</td></tr>\n",
       "</tbody>\n",
       "</table>\n"
      ],
      "text/latex": [
       "A tibble: 6 × 14\n",
       "\\begin{tabular}{llllllllllllll}\n",
       " id & age & gender & height & weight & ap\\_hi & ap\\_lo & cholesterol & gluc & smoke & alco & active & cardio & IMC\\\\\n",
       " <dbl> & <dbl> & <dbl> & <dbl> & <dbl> & <dbl> & <dbl> & <dbl> & <dbl> & <dbl> & <dbl> & <dbl> & <dbl> & <dbl>\\\\\n",
       "\\hline\n",
       "\t 0 & 0 & 1 & 168 & 62 & 110 &  80 & 1 & 1 & 0 & 0 & 1 & 0 & 21.96712\\\\\n",
       "\t 1 & 0 & 0 & 156 & 85 & 140 &  90 & 3 & 1 & 0 & 0 & 1 & 1 & 34.92768\\\\\n",
       "\t 2 & 0 & 0 & 165 & 64 & 130 &  70 & 3 & 1 & 0 & 0 & 0 & 1 & 23.50781\\\\\n",
       "\t 3 & 0 & 1 & 169 & 82 & 150 & 100 & 1 & 1 & 0 & 0 & 1 & 1 & 28.71048\\\\\n",
       "\t 4 & 0 & 0 & 156 & 56 & 100 &  60 & 1 & 1 & 0 & 0 & 0 & 0 & 23.01118\\\\\n",
       "\t 8 & 0 & 0 & 151 & 67 & 120 &  80 & 2 & 2 & 0 & 0 & 0 & 0 & 29.38468\\\\\n",
       "\\end{tabular}\n"
      ],
      "text/markdown": [
       "\n",
       "A tibble: 6 × 14\n",
       "\n",
       "| id &lt;dbl&gt; | age &lt;dbl&gt; | gender &lt;dbl&gt; | height &lt;dbl&gt; | weight &lt;dbl&gt; | ap_hi &lt;dbl&gt; | ap_lo &lt;dbl&gt; | cholesterol &lt;dbl&gt; | gluc &lt;dbl&gt; | smoke &lt;dbl&gt; | alco &lt;dbl&gt; | active &lt;dbl&gt; | cardio &lt;dbl&gt; | IMC &lt;dbl&gt; |\n",
       "|---|---|---|---|---|---|---|---|---|---|---|---|---|---|\n",
       "| 0 | 0 | 1 | 168 | 62 | 110 |  80 | 1 | 1 | 0 | 0 | 1 | 0 | 21.96712 |\n",
       "| 1 | 0 | 0 | 156 | 85 | 140 |  90 | 3 | 1 | 0 | 0 | 1 | 1 | 34.92768 |\n",
       "| 2 | 0 | 0 | 165 | 64 | 130 |  70 | 3 | 1 | 0 | 0 | 0 | 1 | 23.50781 |\n",
       "| 3 | 0 | 1 | 169 | 82 | 150 | 100 | 1 | 1 | 0 | 0 | 1 | 1 | 28.71048 |\n",
       "| 4 | 0 | 0 | 156 | 56 | 100 |  60 | 1 | 1 | 0 | 0 | 0 | 0 | 23.01118 |\n",
       "| 8 | 0 | 0 | 151 | 67 | 120 |  80 | 2 | 2 | 0 | 0 | 0 | 0 | 29.38468 |\n",
       "\n"
      ],
      "text/plain": [
       "  id age gender height weight ap_hi ap_lo cholesterol gluc smoke alco active\n",
       "1 0  0   1      168    62     110    80   1           1    0     0    1     \n",
       "2 1  0   0      156    85     140    90   3           1    0     0    1     \n",
       "3 2  0   0      165    64     130    70   3           1    0     0    0     \n",
       "4 3  0   1      169    82     150   100   1           1    0     0    1     \n",
       "5 4  0   0      156    56     100    60   1           1    0     0    0     \n",
       "6 8  0   0      151    67     120    80   2           2    0     0    0     \n",
       "  cardio IMC     \n",
       "1 0      21.96712\n",
       "2 1      34.92768\n",
       "3 1      23.50781\n",
       "4 1      28.71048\n",
       "5 0      23.01118\n",
       "6 0      29.38468"
      ]
     },
     "metadata": {},
     "output_type": "display_data"
    }
   ],
   "source": [
    "head(data)"
   ]
  },
  {
   "cell_type": "code",
   "execution_count": 25,
   "metadata": {
    "vscode": {
     "languageId": "r"
    }
   },
   "outputs": [],
   "source": [
    "data$smoke <- factor(data$smoke)\n",
    "data$alco <- factor(data$alco)\n",
    "data$active <- factor(data$active)\n",
    "data$cardio <- factor(data$cardio)"
   ]
  },
  {
   "cell_type": "code",
   "execution_count": 26,
   "metadata": {
    "vscode": {
     "languageId": "r"
    }
   },
   "outputs": [],
   "source": [
    "# Dividindo os dados em conjuntos de treinamento (70%) e teste (30%)\n",
    "sample <- sample(c(TRUE, FALSE), nrow(data), replace=TRUE, prob=c(0.7,0.3))\n",
    "train <- data[sample, ]\n",
    "test <- data[!sample, ]"
   ]
  },
  {
   "cell_type": "code",
   "execution_count": 55,
   "metadata": {
    "vscode": {
     "languageId": "r"
    }
   },
   "outputs": [
    {
     "name": "stderr",
     "output_type": "stream",
     "text": [
      "Warning message in predict.lm(object, newdata, se.fit, scale = 1, type = if (type == :\n",
      "\"prediction from rank-deficient fit; attr(*, \"non-estim\") has doubtful cases\"\n"
     ]
    },
    {
     "name": "stdout",
     "output_type": "stream",
     "text": [
      "Accuracy: 0.7192795 \n",
      "Precision: 0.6454253 \n",
      "Recall: 0.7555606 \n",
      "F1 Score: 0.696164 \n"
     ]
    }
   ],
   "source": [
    "model1 <- glm(cardio ~ age + weight + gender + height + IMC + ap_hi + ap_lo + cholesterol + gluc + smoke + alco + active,\n",
    "             data = train, family = binomial)\n",
    "\n",
    "y_hat1 <- predict(model1, newdata = test, type = \"response\")\n",
    "\n",
    "# Set a threshold to classify observations as 0 or 1\n",
    "predicted_classes <- ifelse(y_hat1  > 0.5, 1, 0)\n",
    "\n",
    "get_evaluation_metrics(predicted_classes, test$cardio)"
   ]
  },
  {
   "cell_type": "code",
   "execution_count": 28,
   "metadata": {
    "vscode": {
     "languageId": "r"
    }
   },
   "outputs": [
    {
     "data": {
      "text/plain": [
       "\n",
       "Call:\n",
       "glm(formula = cardio ~ age + weight + height + IMC + ap_hi + \n",
       "    ap_lo + cholesterol + gluc + smoke + alco + active, family = binomial, \n",
       "    data = train)\n",
       "\n",
       "Coefficients: (1 not defined because of singularities)\n",
       "             Estimate Std. Error z value Pr(>|z|)    \n",
       "(Intercept) -9.187231   1.208847  -7.600 2.96e-14 ***\n",
       "age                NA         NA      NA       NA    \n",
       "weight       0.005875   0.007975   0.737    0.461    \n",
       "height      -0.003133   0.007356  -0.426    0.670    \n",
       "IMC          0.016850   0.021224   0.794    0.427    \n",
       "ap_hi        0.058422   0.001099  53.153  < 2e-16 ***\n",
       "ap_lo        0.012303   0.001727   7.123 1.06e-12 ***\n",
       "cholesterol  0.551781   0.018500  29.825  < 2e-16 ***\n",
       "gluc        -0.095110   0.020951  -4.540 5.63e-06 ***\n",
       "smoke1      -0.188852   0.039727  -4.754 2.00e-06 ***\n",
       "alco1       -0.210495   0.050240  -4.190 2.79e-05 ***\n",
       "active1     -0.207201   0.025890  -8.003 1.21e-15 ***\n",
       "---\n",
       "Signif. codes:  0 '***' 0.001 '**' 0.01 '*' 0.05 '.' 0.1 ' ' 1\n",
       "\n",
       "(Dispersion parameter for binomial family taken to be 1)\n",
       "\n",
       "    Null deviance: 66463  on 47949  degrees of freedom\n",
       "Residual deviance: 54703  on 47939  degrees of freedom\n",
       "AIC: 54725\n",
       "\n",
       "Number of Fisher Scoring iterations: 4\n"
      ]
     },
     "metadata": {},
     "output_type": "display_data"
    }
   ],
   "source": [
    "summary(model1)"
   ]
  },
  {
   "cell_type": "code",
   "execution_count": 56,
   "metadata": {
    "vscode": {
     "languageId": "r"
    }
   },
   "outputs": [
    {
     "data": {
      "text/html": [
       "<style>\n",
       ".list-inline {list-style: none; margin:0; padding: 0}\n",
       ".list-inline>li {display: inline-block}\n",
       ".list-inline>li:not(:last-child)::after {content: \"\\00b7\"; padding: 0 .5ex}\n",
       "</style>\n",
       "<ol class=list-inline><li>54725.5579712911</li><li>54830.8929402549</li><li>54725.5644798336</li></ol>\n"
      ],
      "text/latex": [
       "\\begin{enumerate*}\n",
       "\\item 54725.5579712911\n",
       "\\item 54830.8929402549\n",
       "\\item 54725.5644798336\n",
       "\\end{enumerate*}\n"
      ],
      "text/markdown": [
       "1. 54725.5579712911\n",
       "2. 54830.8929402549\n",
       "3. 54725.5644798336\n",
       "\n",
       "\n"
      ],
      "text/plain": [
       "[1] 54725.56 54830.89 54725.56"
      ]
     },
     "metadata": {},
     "output_type": "display_data"
    }
   ],
   "source": [
    "model_ic(model1)"
   ]
  },
  {
   "cell_type": "code",
   "execution_count": 57,
   "metadata": {
    "vscode": {
     "languageId": "r"
    }
   },
   "outputs": [
    {
     "name": "stdout",
     "output_type": "stream",
     "text": [
      " (Intercept)          age       weight       gender       height          IMC \n",
      "0.0001124234           NA 1.0055539248 1.0329447817 0.9962756880 1.0179538372 \n",
      "       ap_hi        ap_lo  cholesterol         gluc       smoke1        alco1 \n",
      "1.0601147675 1.0123568328 1.7372350411 0.9093902358 0.8175683701 0.8077217851 \n",
      "     active1 \n",
      "0.8127675883 \n"
     ]
    }
   ],
   "source": [
    "coefficients1 <- coef(model1)\n",
    "\n",
    "# Convert to odds ratios\n",
    "odds_ratios1 <- exp(coefficients1)\n",
    "\n",
    "# Print the odds ratios\n",
    "print(odds_ratios1)"
   ]
  },
  {
   "cell_type": "code",
   "execution_count": 58,
   "metadata": {
    "vscode": {
     "languageId": "r"
    }
   },
   "outputs": [
    {
     "data": {
      "text/html": [
       "<table class=\"dataframe\">\n",
       "<caption>A tibble: 13 × 5</caption>\n",
       "<thead>\n",
       "\t<tr><th scope=col>term</th><th scope=col>estimate</th><th scope=col>std.error</th><th scope=col>statistic</th><th scope=col>p.value</th></tr>\n",
       "\t<tr><th scope=col>&lt;chr&gt;</th><th scope=col>&lt;dbl&gt;</th><th scope=col>&lt;dbl&gt;</th><th scope=col>&lt;dbl&gt;</th><th scope=col>&lt;dbl&gt;</th></tr>\n",
       "</thead>\n",
       "<tbody>\n",
       "\t<tr><td>(Intercept)</td><td>-9.093238697</td><td>1.211458820</td><td>-7.5060238</td><td> 6.095036e-14</td></tr>\n",
       "\t<tr><td>age        </td><td>          NA</td><td>         NA</td><td>        NA</td><td>           NA</td></tr>\n",
       "\t<tr><td>weight     </td><td> 0.005538559</td><td>0.007981413</td><td> 0.6939321</td><td> 4.877248e-01</td></tr>\n",
       "\t<tr><td>gender     </td><td> 0.032413734</td><td>0.026263791</td><td> 1.2341605</td><td> 2.171431e-01</td></tr>\n",
       "\t<tr><td>height     </td><td>-0.003731265</td><td>0.007373831</td><td>-0.5060144</td><td> 6.128466e-01</td></tr>\n",
       "\t<tr><td>IMC        </td><td> 0.017794571</td><td>0.021243339</td><td> 0.8376541</td><td> 4.022250e-01</td></tr>\n",
       "\t<tr><td>ap_hi      </td><td> 0.058377173</td><td>0.001099692</td><td>53.0850033</td><td> 0.000000e+00</td></tr>\n",
       "\t<tr><td>ap_lo      </td><td> 0.012281110</td><td>0.001727426</td><td> 7.1094839</td><td> 1.164777e-12</td></tr>\n",
       "\t<tr><td>cholesterol</td><td> 0.552294793</td><td>0.018505582</td><td>29.8447668</td><td>1.026464e-195</td></tr>\n",
       "\t<tr><td>gluc       </td><td>-0.094980975</td><td>0.020951121</td><td>-4.5334556</td><td> 5.802647e-06</td></tr>\n",
       "\t<tr><td>smoke1     </td><td>-0.201420747</td><td>0.041006796</td><td>-4.9118869</td><td> 9.020408e-07</td></tr>\n",
       "\t<tr><td>alco1      </td><td>-0.213537605</td><td>0.050299244</td><td>-4.2453443</td><td> 2.182581e-05</td></tr>\n",
       "\t<tr><td>active1    </td><td>-0.207310080</td><td>0.025890762</td><td>-8.0071062</td><td> 1.174391e-15</td></tr>\n",
       "</tbody>\n",
       "</table>\n"
      ],
      "text/latex": [
       "A tibble: 13 × 5\n",
       "\\begin{tabular}{lllll}\n",
       " term & estimate & std.error & statistic & p.value\\\\\n",
       " <chr> & <dbl> & <dbl> & <dbl> & <dbl>\\\\\n",
       "\\hline\n",
       "\t (Intercept) & -9.093238697 & 1.211458820 & -7.5060238 &  6.095036e-14\\\\\n",
       "\t age         &           NA &          NA &         NA &            NA\\\\\n",
       "\t weight      &  0.005538559 & 0.007981413 &  0.6939321 &  4.877248e-01\\\\\n",
       "\t gender      &  0.032413734 & 0.026263791 &  1.2341605 &  2.171431e-01\\\\\n",
       "\t height      & -0.003731265 & 0.007373831 & -0.5060144 &  6.128466e-01\\\\\n",
       "\t IMC         &  0.017794571 & 0.021243339 &  0.8376541 &  4.022250e-01\\\\\n",
       "\t ap\\_hi       &  0.058377173 & 0.001099692 & 53.0850033 &  0.000000e+00\\\\\n",
       "\t ap\\_lo       &  0.012281110 & 0.001727426 &  7.1094839 &  1.164777e-12\\\\\n",
       "\t cholesterol &  0.552294793 & 0.018505582 & 29.8447668 & 1.026464e-195\\\\\n",
       "\t gluc        & -0.094980975 & 0.020951121 & -4.5334556 &  5.802647e-06\\\\\n",
       "\t smoke1      & -0.201420747 & 0.041006796 & -4.9118869 &  9.020408e-07\\\\\n",
       "\t alco1       & -0.213537605 & 0.050299244 & -4.2453443 &  2.182581e-05\\\\\n",
       "\t active1     & -0.207310080 & 0.025890762 & -8.0071062 &  1.174391e-15\\\\\n",
       "\\end{tabular}\n"
      ],
      "text/markdown": [
       "\n",
       "A tibble: 13 × 5\n",
       "\n",
       "| term &lt;chr&gt; | estimate &lt;dbl&gt; | std.error &lt;dbl&gt; | statistic &lt;dbl&gt; | p.value &lt;dbl&gt; |\n",
       "|---|---|---|---|---|\n",
       "| (Intercept) | -9.093238697 | 1.211458820 | -7.5060238 |  6.095036e-14 |\n",
       "| age         |           NA |          NA |         NA |            NA |\n",
       "| weight      |  0.005538559 | 0.007981413 |  0.6939321 |  4.877248e-01 |\n",
       "| gender      |  0.032413734 | 0.026263791 |  1.2341605 |  2.171431e-01 |\n",
       "| height      | -0.003731265 | 0.007373831 | -0.5060144 |  6.128466e-01 |\n",
       "| IMC         |  0.017794571 | 0.021243339 |  0.8376541 |  4.022250e-01 |\n",
       "| ap_hi       |  0.058377173 | 0.001099692 | 53.0850033 |  0.000000e+00 |\n",
       "| ap_lo       |  0.012281110 | 0.001727426 |  7.1094839 |  1.164777e-12 |\n",
       "| cholesterol |  0.552294793 | 0.018505582 | 29.8447668 | 1.026464e-195 |\n",
       "| gluc        | -0.094980975 | 0.020951121 | -4.5334556 |  5.802647e-06 |\n",
       "| smoke1      | -0.201420747 | 0.041006796 | -4.9118869 |  9.020408e-07 |\n",
       "| alco1       | -0.213537605 | 0.050299244 | -4.2453443 |  2.182581e-05 |\n",
       "| active1     | -0.207310080 | 0.025890762 | -8.0071062 |  1.174391e-15 |\n",
       "\n"
      ],
      "text/plain": [
       "   term        estimate     std.error   statistic  p.value      \n",
       "1  (Intercept) -9.093238697 1.211458820 -7.5060238  6.095036e-14\n",
       "2  age                   NA          NA         NA            NA\n",
       "3  weight       0.005538559 0.007981413  0.6939321  4.877248e-01\n",
       "4  gender       0.032413734 0.026263791  1.2341605  2.171431e-01\n",
       "5  height      -0.003731265 0.007373831 -0.5060144  6.128466e-01\n",
       "6  IMC          0.017794571 0.021243339  0.8376541  4.022250e-01\n",
       "7  ap_hi        0.058377173 0.001099692 53.0850033  0.000000e+00\n",
       "8  ap_lo        0.012281110 0.001727426  7.1094839  1.164777e-12\n",
       "9  cholesterol  0.552294793 0.018505582 29.8447668 1.026464e-195\n",
       "10 gluc        -0.094980975 0.020951121 -4.5334556  5.802647e-06\n",
       "11 smoke1      -0.201420747 0.041006796 -4.9118869  9.020408e-07\n",
       "12 alco1       -0.213537605 0.050299244 -4.2453443  2.182581e-05\n",
       "13 active1     -0.207310080 0.025890762 -8.0071062  1.174391e-15"
      ]
     },
     "metadata": {},
     "output_type": "display_data"
    }
   ],
   "source": [
    "summary <- tidy(model1)\n",
    "summary"
   ]
  },
  {
   "cell_type": "code",
   "execution_count": 59,
   "metadata": {
    "vscode": {
     "languageId": "r"
    }
   },
   "outputs": [
    {
     "name": "stderr",
     "output_type": "stream",
     "text": [
      "Waiting for profiling to be done...\n",
      "\n"
     ]
    },
    {
     "data": {
      "text/html": [
       "<table class=\"dataframe\">\n",
       "<caption>A matrix: 13 × 2 of type dbl</caption>\n",
       "<thead>\n",
       "\t<tr><th></th><th scope=col>2.5 %</th><th scope=col>97.5 %</th></tr>\n",
       "</thead>\n",
       "<tbody>\n",
       "\t<tr><th scope=row>(Intercept)</th><td>-11.468978038</td><td>-6.71971018</td></tr>\n",
       "\t<tr><th scope=row>age</th><td>           NA</td><td>         NA</td></tr>\n",
       "\t<tr><th scope=row>weight</th><td> -0.010104337</td><td> 0.02118592</td></tr>\n",
       "\t<tr><th scope=row>gender</th><td> -0.019070481</td><td> 0.08388417</td></tr>\n",
       "\t<tr><th scope=row>height</th><td> -0.018185972</td><td> 0.01072158</td></tr>\n",
       "\t<tr><th scope=row>IMC</th><td> -0.023831590</td><td> 0.05945140</td></tr>\n",
       "\t<tr><th scope=row>ap_hi</th><td>  0.056229646</td><td> 0.06054054</td></tr>\n",
       "\t<tr><th scope=row>ap_lo</th><td>  0.008895148</td><td> 0.01566684</td></tr>\n",
       "\t<tr><th scope=row>cholesterol</th><td>  0.516107545</td><td> 0.58865149</td></tr>\n",
       "\t<tr><th scope=row>gluc</th><td> -0.136072717</td><td>-0.05394130</td></tr>\n",
       "\t<tr><th scope=row>smoke1</th><td> -0.281858721</td><td>-0.12110638</td></tr>\n",
       "\t<tr><th scope=row>alco1</th><td> -0.312211100</td><td>-0.11502527</td></tr>\n",
       "\t<tr><th scope=row>active1</th><td> -0.258060292</td><td>-0.15656750</td></tr>\n",
       "</tbody>\n",
       "</table>\n"
      ],
      "text/latex": [
       "A matrix: 13 × 2 of type dbl\n",
       "\\begin{tabular}{r|ll}\n",
       "  & 2.5 \\% & 97.5 \\%\\\\\n",
       "\\hline\n",
       "\t(Intercept) & -11.468978038 & -6.71971018\\\\\n",
       "\tage &            NA &          NA\\\\\n",
       "\tweight &  -0.010104337 &  0.02118592\\\\\n",
       "\tgender &  -0.019070481 &  0.08388417\\\\\n",
       "\theight &  -0.018185972 &  0.01072158\\\\\n",
       "\tIMC &  -0.023831590 &  0.05945140\\\\\n",
       "\tap\\_hi &   0.056229646 &  0.06054054\\\\\n",
       "\tap\\_lo &   0.008895148 &  0.01566684\\\\\n",
       "\tcholesterol &   0.516107545 &  0.58865149\\\\\n",
       "\tgluc &  -0.136072717 & -0.05394130\\\\\n",
       "\tsmoke1 &  -0.281858721 & -0.12110638\\\\\n",
       "\talco1 &  -0.312211100 & -0.11502527\\\\\n",
       "\tactive1 &  -0.258060292 & -0.15656750\\\\\n",
       "\\end{tabular}\n"
      ],
      "text/markdown": [
       "\n",
       "A matrix: 13 × 2 of type dbl\n",
       "\n",
       "| <!--/--> | 2.5 % | 97.5 % |\n",
       "|---|---|---|\n",
       "| (Intercept) | -11.468978038 | -6.71971018 |\n",
       "| age |            NA |          NA |\n",
       "| weight |  -0.010104337 |  0.02118592 |\n",
       "| gender |  -0.019070481 |  0.08388417 |\n",
       "| height |  -0.018185972 |  0.01072158 |\n",
       "| IMC |  -0.023831590 |  0.05945140 |\n",
       "| ap_hi |   0.056229646 |  0.06054054 |\n",
       "| ap_lo |   0.008895148 |  0.01566684 |\n",
       "| cholesterol |   0.516107545 |  0.58865149 |\n",
       "| gluc |  -0.136072717 | -0.05394130 |\n",
       "| smoke1 |  -0.281858721 | -0.12110638 |\n",
       "| alco1 |  -0.312211100 | -0.11502527 |\n",
       "| active1 |  -0.258060292 | -0.15656750 |\n",
       "\n"
      ],
      "text/plain": [
       "            2.5 %         97.5 %     \n",
       "(Intercept) -11.468978038 -6.71971018\n",
       "age                    NA          NA\n",
       "weight       -0.010104337  0.02118592\n",
       "gender       -0.019070481  0.08388417\n",
       "height       -0.018185972  0.01072158\n",
       "IMC          -0.023831590  0.05945140\n",
       "ap_hi         0.056229646  0.06054054\n",
       "ap_lo         0.008895148  0.01566684\n",
       "cholesterol   0.516107545  0.58865149\n",
       "gluc         -0.136072717 -0.05394130\n",
       "smoke1       -0.281858721 -0.12110638\n",
       "alco1        -0.312211100 -0.11502527\n",
       "active1      -0.258060292 -0.15656750"
      ]
     },
     "metadata": {},
     "output_type": "display_data"
    }
   ],
   "source": [
    "mean_coef <- mean(summary$estimate)\n",
    "confint(model1)"
   ]
  },
  {
   "cell_type": "code",
   "execution_count": 49,
   "metadata": {
    "vscode": {
     "languageId": "r"
    }
   },
   "outputs": [
    {
     "name": "stdout",
     "output_type": "stream",
     "text": [
      "Accuracy: 0.7187454 \n",
      "Precision: 0.6448407 \n",
      "Recall: 0.7549624 \n",
      "F1 Score: 0.6955699 \n"
     ]
    }
   ],
   "source": [
    "model2 <- glm(cardio ~ age + ap_hi + ap_lo + weight + cholesterol + gluc + smoke + alco + active,\n",
    "             data = train, family = binomial)\n",
    "\n",
    "y_hat2 <- predict(model2, newdata = test, type = \"response\")\n",
    "\n",
    "# Set a threshold to classify observations as 0 or 1\n",
    "predicted_classes2 <- ifelse(y_hat2 > 0.5, 1, 0)\n",
    "\n",
    "get_evaluation_metrics(predicted_classes2, test$cardio)"
   ]
  },
  {
   "cell_type": "code",
   "execution_count": 32,
   "metadata": {
    "vscode": {
     "languageId": "r"
    }
   },
   "outputs": [
    {
     "data": {
      "text/html": [
       "<style>\n",
       ".list-inline {list-style: none; margin:0; padding: 0}\n",
       ".list-inline>li {display: inline-block}\n",
       ".list-inline>li:not(:last-child)::after {content: \"\\00b7\"; padding: 0 .5ex}\n",
       "</style>\n",
       "<ol class=list-inline><li>54760.0069231683</li><li>54839.0081498911</li><li>54760.0106778617</li></ol>\n"
      ],
      "text/latex": [
       "\\begin{enumerate*}\n",
       "\\item 54760.0069231683\n",
       "\\item 54839.0081498911\n",
       "\\item 54760.0106778617\n",
       "\\end{enumerate*}\n"
      ],
      "text/markdown": [
       "1. 54760.0069231683\n",
       "2. 54839.0081498911\n",
       "3. 54760.0106778617\n",
       "\n",
       "\n"
      ],
      "text/plain": [
       "[1] 54760.01 54839.01 54760.01"
      ]
     },
     "metadata": {},
     "output_type": "display_data"
    }
   ],
   "source": [
    "model_ic(model2)"
   ]
  },
  {
   "cell_type": "code",
   "execution_count": 33,
   "metadata": {
    "vscode": {
     "languageId": "r"
    }
   },
   "outputs": [
    {
     "name": "stdout",
     "output_type": "stream",
     "text": [
      " (Intercept)          age        ap_hi        ap_lo       weight  cholesterol \n",
      "6.599609e-05           NA 1.060512e+00 1.012242e+00 1.010564e+00 1.751520e+00 \n",
      "        gluc       smoke1        alco1      active1 \n",
      "9.101778e-01 7.958751e-01 8.042163e-01 8.145469e-01 \n"
     ]
    }
   ],
   "source": [
    "coefficients2 <- coef(model2)\n",
    "\n",
    "# Convert to odds ratios\n",
    "odds_ratios2 <- exp(coefficients2)\n",
    "\n",
    "# Print the odds ratios\n",
    "print(odds_ratios2)"
   ]
  },
  {
   "cell_type": "code",
   "execution_count": 34,
   "metadata": {
    "vscode": {
     "languageId": "r"
    }
   },
   "outputs": [
    {
     "data": {
      "text/html": [
       "<table class=\"dataframe\">\n",
       "<caption>A tibble: 10 × 5</caption>\n",
       "<thead>\n",
       "\t<tr><th scope=col>term</th><th scope=col>estimate</th><th scope=col>std.error</th><th scope=col>statistic</th><th scope=col>p.value</th></tr>\n",
       "\t<tr><th scope=col>&lt;chr&gt;</th><th scope=col>&lt;dbl&gt;</th><th scope=col>&lt;dbl&gt;</th><th scope=col>&lt;dbl&gt;</th><th scope=col>&lt;dbl&gt;</th></tr>\n",
       "</thead>\n",
       "<tbody>\n",
       "\t<tr><td>(Intercept)</td><td>-9.62591501</td><td>0.1228287339</td><td>-78.368593</td><td> 0.000000e+00</td></tr>\n",
       "\t<tr><td>age        </td><td>         NA</td><td>          NA</td><td>        NA</td><td>           NA</td></tr>\n",
       "\t<tr><td>ap_hi      </td><td> 0.05875158</td><td>0.0010985007</td><td> 53.483420</td><td> 0.000000e+00</td></tr>\n",
       "\t<tr><td>ap_lo      </td><td> 0.01216725</td><td>0.0017269411</td><td>  7.045548</td><td> 1.847327e-12</td></tr>\n",
       "\t<tr><td>weight     </td><td> 0.01050891</td><td>0.0007915311</td><td> 13.276686</td><td> 3.160746e-40</td></tr>\n",
       "\t<tr><td>cholesterol</td><td> 0.56048398</td><td>0.0184399901</td><td> 30.395026</td><td>6.390525e-203</td></tr>\n",
       "\t<tr><td>gluc       </td><td>-0.09411535</td><td>0.0209414610</td><td> -4.494211</td><td> 6.982827e-06</td></tr>\n",
       "\t<tr><td>smoke1     </td><td>-0.22831303</td><td>0.0392496119</td><td> -5.816950</td><td> 5.993107e-09</td></tr>\n",
       "\t<tr><td>alco1      </td><td>-0.21788697</td><td>0.0502455157</td><td> -4.336446</td><td> 1.448050e-05</td></tr>\n",
       "\t<tr><td>active1    </td><td>-0.20512329</td><td>0.0258763564</td><td> -7.927054</td><td> 2.244050e-15</td></tr>\n",
       "</tbody>\n",
       "</table>\n"
      ],
      "text/latex": [
       "A tibble: 10 × 5\n",
       "\\begin{tabular}{lllll}\n",
       " term & estimate & std.error & statistic & p.value\\\\\n",
       " <chr> & <dbl> & <dbl> & <dbl> & <dbl>\\\\\n",
       "\\hline\n",
       "\t (Intercept) & -9.62591501 & 0.1228287339 & -78.368593 &  0.000000e+00\\\\\n",
       "\t age         &          NA &           NA &         NA &            NA\\\\\n",
       "\t ap\\_hi       &  0.05875158 & 0.0010985007 &  53.483420 &  0.000000e+00\\\\\n",
       "\t ap\\_lo       &  0.01216725 & 0.0017269411 &   7.045548 &  1.847327e-12\\\\\n",
       "\t weight      &  0.01050891 & 0.0007915311 &  13.276686 &  3.160746e-40\\\\\n",
       "\t cholesterol &  0.56048398 & 0.0184399901 &  30.395026 & 6.390525e-203\\\\\n",
       "\t gluc        & -0.09411535 & 0.0209414610 &  -4.494211 &  6.982827e-06\\\\\n",
       "\t smoke1      & -0.22831303 & 0.0392496119 &  -5.816950 &  5.993107e-09\\\\\n",
       "\t alco1       & -0.21788697 & 0.0502455157 &  -4.336446 &  1.448050e-05\\\\\n",
       "\t active1     & -0.20512329 & 0.0258763564 &  -7.927054 &  2.244050e-15\\\\\n",
       "\\end{tabular}\n"
      ],
      "text/markdown": [
       "\n",
       "A tibble: 10 × 5\n",
       "\n",
       "| term &lt;chr&gt; | estimate &lt;dbl&gt; | std.error &lt;dbl&gt; | statistic &lt;dbl&gt; | p.value &lt;dbl&gt; |\n",
       "|---|---|---|---|---|\n",
       "| (Intercept) | -9.62591501 | 0.1228287339 | -78.368593 |  0.000000e+00 |\n",
       "| age         |          NA |           NA |         NA |            NA |\n",
       "| ap_hi       |  0.05875158 | 0.0010985007 |  53.483420 |  0.000000e+00 |\n",
       "| ap_lo       |  0.01216725 | 0.0017269411 |   7.045548 |  1.847327e-12 |\n",
       "| weight      |  0.01050891 | 0.0007915311 |  13.276686 |  3.160746e-40 |\n",
       "| cholesterol |  0.56048398 | 0.0184399901 |  30.395026 | 6.390525e-203 |\n",
       "| gluc        | -0.09411535 | 0.0209414610 |  -4.494211 |  6.982827e-06 |\n",
       "| smoke1      | -0.22831303 | 0.0392496119 |  -5.816950 |  5.993107e-09 |\n",
       "| alco1       | -0.21788697 | 0.0502455157 |  -4.336446 |  1.448050e-05 |\n",
       "| active1     | -0.20512329 | 0.0258763564 |  -7.927054 |  2.244050e-15 |\n",
       "\n"
      ],
      "text/plain": [
       "   term        estimate    std.error    statistic  p.value      \n",
       "1  (Intercept) -9.62591501 0.1228287339 -78.368593  0.000000e+00\n",
       "2  age                  NA           NA         NA            NA\n",
       "3  ap_hi        0.05875158 0.0010985007  53.483420  0.000000e+00\n",
       "4  ap_lo        0.01216725 0.0017269411   7.045548  1.847327e-12\n",
       "5  weight       0.01050891 0.0007915311  13.276686  3.160746e-40\n",
       "6  cholesterol  0.56048398 0.0184399901  30.395026 6.390525e-203\n",
       "7  gluc        -0.09411535 0.0209414610  -4.494211  6.982827e-06\n",
       "8  smoke1      -0.22831303 0.0392496119  -5.816950  5.993107e-09\n",
       "9  alco1       -0.21788697 0.0502455157  -4.336446  1.448050e-05\n",
       "10 active1     -0.20512329 0.0258763564  -7.927054  2.244050e-15"
      ]
     },
     "metadata": {},
     "output_type": "display_data"
    }
   ],
   "source": [
    "summary <- tidy(model2)\n",
    "summary"
   ]
  },
  {
   "cell_type": "code",
   "execution_count": 35,
   "metadata": {
    "vscode": {
     "languageId": "r"
    }
   },
   "outputs": [
    {
     "name": "stderr",
     "output_type": "stream",
     "text": [
      "Waiting for profiling to be done...\n",
      "\n"
     ]
    },
    {
     "data": {
      "text/html": [
       "<table class=\"dataframe\">\n",
       "<caption>A matrix: 10 × 2 of type dbl</caption>\n",
       "<thead>\n",
       "\t<tr><th></th><th scope=col>2.5 %</th><th scope=col>97.5 %</th></tr>\n",
       "</thead>\n",
       "<tbody>\n",
       "\t<tr><th scope=row>(Intercept)</th><td>-9.867530546</td><td>-9.38603498</td></tr>\n",
       "\t<tr><th scope=row>age</th><td>          NA</td><td>         NA</td></tr>\n",
       "\t<tr><th scope=row>ap_hi</th><td> 0.056606395</td><td> 0.06091262</td></tr>\n",
       "\t<tr><th scope=row>ap_lo</th><td> 0.008782247</td><td> 0.01555203</td></tr>\n",
       "\t<tr><th scope=row>weight</th><td> 0.008958795</td><td> 0.01206164</td></tr>\n",
       "\t<tr><th scope=row>cholesterol</th><td> 0.524426285</td><td> 0.59671310</td></tr>\n",
       "\t<tr><th scope=row>gluc</th><td>-0.135187833</td><td>-0.05309427</td></tr>\n",
       "\t<tr><th scope=row>smoke1</th><td>-0.305315585</td><td>-0.15145073</td></tr>\n",
       "\t<tr><th scope=row>alco1</th><td>-0.316456008</td><td>-0.11948071</td></tr>\n",
       "\t<tr><th scope=row>active1</th><td>-0.255845265</td><td>-0.15440895</td></tr>\n",
       "</tbody>\n",
       "</table>\n"
      ],
      "text/latex": [
       "A matrix: 10 × 2 of type dbl\n",
       "\\begin{tabular}{r|ll}\n",
       "  & 2.5 \\% & 97.5 \\%\\\\\n",
       "\\hline\n",
       "\t(Intercept) & -9.867530546 & -9.38603498\\\\\n",
       "\tage &           NA &          NA\\\\\n",
       "\tap\\_hi &  0.056606395 &  0.06091262\\\\\n",
       "\tap\\_lo &  0.008782247 &  0.01555203\\\\\n",
       "\tweight &  0.008958795 &  0.01206164\\\\\n",
       "\tcholesterol &  0.524426285 &  0.59671310\\\\\n",
       "\tgluc & -0.135187833 & -0.05309427\\\\\n",
       "\tsmoke1 & -0.305315585 & -0.15145073\\\\\n",
       "\talco1 & -0.316456008 & -0.11948071\\\\\n",
       "\tactive1 & -0.255845265 & -0.15440895\\\\\n",
       "\\end{tabular}\n"
      ],
      "text/markdown": [
       "\n",
       "A matrix: 10 × 2 of type dbl\n",
       "\n",
       "| <!--/--> | 2.5 % | 97.5 % |\n",
       "|---|---|---|\n",
       "| (Intercept) | -9.867530546 | -9.38603498 |\n",
       "| age |           NA |          NA |\n",
       "| ap_hi |  0.056606395 |  0.06091262 |\n",
       "| ap_lo |  0.008782247 |  0.01555203 |\n",
       "| weight |  0.008958795 |  0.01206164 |\n",
       "| cholesterol |  0.524426285 |  0.59671310 |\n",
       "| gluc | -0.135187833 | -0.05309427 |\n",
       "| smoke1 | -0.305315585 | -0.15145073 |\n",
       "| alco1 | -0.316456008 | -0.11948071 |\n",
       "| active1 | -0.255845265 | -0.15440895 |\n",
       "\n"
      ],
      "text/plain": [
       "            2.5 %        97.5 %     \n",
       "(Intercept) -9.867530546 -9.38603498\n",
       "age                   NA          NA\n",
       "ap_hi        0.056606395  0.06091262\n",
       "ap_lo        0.008782247  0.01555203\n",
       "weight       0.008958795  0.01206164\n",
       "cholesterol  0.524426285  0.59671310\n",
       "gluc        -0.135187833 -0.05309427\n",
       "smoke1      -0.305315585 -0.15145073\n",
       "alco1       -0.316456008 -0.11948071\n",
       "active1     -0.255845265 -0.15440895"
      ]
     },
     "metadata": {},
     "output_type": "display_data"
    }
   ],
   "source": [
    "mean_coef <- mean(summary$estimate)\n",
    "confint(model2)"
   ]
  },
  {
   "cell_type": "code",
   "execution_count": 60,
   "metadata": {
    "vscode": {
     "languageId": "r"
    }
   },
   "outputs": [
    {
     "name": "stdout",
     "output_type": "stream",
     "text": [
      "Accuracy: 0.7192795 \n",
      "Precision: 0.6454253 \n",
      "Recall: 0.7555606 \n",
      "F1 Score: 0.696164 \n"
     ]
    }
   ],
   "source": [
    "model3 <- glm(cardio ~ age + weight + gender + ap_hi + ap_lo + cholesterol + gluc + smoke + alco + active,\n",
    "             data = train, family = binomial)\n",
    "\n",
    "y_hat3 <- predict(model3, newdata = test, type = \"response\")\n",
    "\n",
    "# Set a threshold to classify observations as 0 or 1\n",
    "predicted_classes3 <- ifelse(y_hat3  > 0.5, 1, 0)\n",
    "\n",
    "get_evaluation_metrics(predicted_classes, test$cardio)"
   ]
  },
  {
   "cell_type": "code",
   "execution_count": 61,
   "metadata": {
    "vscode": {
     "languageId": "r"
    }
   },
   "outputs": [
    {
     "name": "stdout",
     "output_type": "stream",
     "text": [
      " (Intercept)          age       weight       gender        ap_hi        ap_lo \n",
      "6.569469e-05           NA 1.010766e+00 9.592586e-01 1.060526e+00 1.012288e+00 \n",
      " cholesterol         gluc       smoke1        alco1      active1 \n",
      "1.748292e+00 9.099134e-01 8.130558e-01 8.081532e-01 8.144292e-01 \n"
     ]
    }
   ],
   "source": [
    "coefficients3 <- coef(model3)\n",
    "\n",
    "# Convert to odds ratios\n",
    "odds_ratios3 <- exp(coefficients3)\n",
    "\n",
    "# Print the odds ratios\n",
    "print(odds_ratios3)"
   ]
  },
  {
   "cell_type": "code",
   "execution_count": 62,
   "metadata": {
    "vscode": {
     "languageId": "r"
    }
   },
   "outputs": [
    {
     "data": {
      "text/html": [
       "<table class=\"dataframe\">\n",
       "<caption>A tibble: 11 × 5</caption>\n",
       "<thead>\n",
       "\t<tr><th scope=col>term</th><th scope=col>estimate</th><th scope=col>std.error</th><th scope=col>statistic</th><th scope=col>p.value</th></tr>\n",
       "\t<tr><th scope=col>&lt;chr&gt;</th><th scope=col>&lt;dbl&gt;</th><th scope=col>&lt;dbl&gt;</th><th scope=col>&lt;dbl&gt;</th><th scope=col>&lt;dbl&gt;</th></tr>\n",
       "</thead>\n",
       "<tbody>\n",
       "\t<tr><td>(Intercept)</td><td>-9.63049241</td><td>0.1228528112</td><td>-78.390493</td><td> 0.000000e+00</td></tr>\n",
       "\t<tr><td>age        </td><td>         NA</td><td>          NA</td><td>        NA</td><td>           NA</td></tr>\n",
       "\t<tr><td>weight     </td><td> 0.01070806</td><td>0.0007995136</td><td> 13.393213</td><td> 6.625124e-41</td></tr>\n",
       "\t<tr><td>gender     </td><td>-0.04159462</td><td>0.0232911386</td><td> -1.785856</td><td> 7.412259e-02</td></tr>\n",
       "\t<tr><td>ap_hi      </td><td> 0.05876483</td><td>0.0010985250</td><td> 53.494307</td><td> 0.000000e+00</td></tr>\n",
       "\t<tr><td>ap_lo      </td><td> 0.01221309</td><td>0.0017271280</td><td>  7.071329</td><td> 1.534563e-12</td></tr>\n",
       "\t<tr><td>cholesterol</td><td> 0.55863950</td><td>0.0184685939</td><td> 30.248080</td><td>5.529679e-201</td></tr>\n",
       "\t<tr><td>gluc       </td><td>-0.09440590</td><td>0.0209430992</td><td> -4.507733</td><td> 6.552390e-06</td></tr>\n",
       "\t<tr><td>smoke1     </td><td>-0.20695550</td><td>0.0410335674</td><td> -5.043566</td><td> 4.569355e-07</td></tr>\n",
       "\t<tr><td>alco1      </td><td>-0.21300362</td><td>0.0503194715</td><td> -4.233026</td><td> 2.305680e-05</td></tr>\n",
       "\t<tr><td>active1    </td><td>-0.20526784</td><td>0.0258777296</td><td> -7.932220</td><td> 2.152632e-15</td></tr>\n",
       "</tbody>\n",
       "</table>\n"
      ],
      "text/latex": [
       "A tibble: 11 × 5\n",
       "\\begin{tabular}{lllll}\n",
       " term & estimate & std.error & statistic & p.value\\\\\n",
       " <chr> & <dbl> & <dbl> & <dbl> & <dbl>\\\\\n",
       "\\hline\n",
       "\t (Intercept) & -9.63049241 & 0.1228528112 & -78.390493 &  0.000000e+00\\\\\n",
       "\t age         &          NA &           NA &         NA &            NA\\\\\n",
       "\t weight      &  0.01070806 & 0.0007995136 &  13.393213 &  6.625124e-41\\\\\n",
       "\t gender      & -0.04159462 & 0.0232911386 &  -1.785856 &  7.412259e-02\\\\\n",
       "\t ap\\_hi       &  0.05876483 & 0.0010985250 &  53.494307 &  0.000000e+00\\\\\n",
       "\t ap\\_lo       &  0.01221309 & 0.0017271280 &   7.071329 &  1.534563e-12\\\\\n",
       "\t cholesterol &  0.55863950 & 0.0184685939 &  30.248080 & 5.529679e-201\\\\\n",
       "\t gluc        & -0.09440590 & 0.0209430992 &  -4.507733 &  6.552390e-06\\\\\n",
       "\t smoke1      & -0.20695550 & 0.0410335674 &  -5.043566 &  4.569355e-07\\\\\n",
       "\t alco1       & -0.21300362 & 0.0503194715 &  -4.233026 &  2.305680e-05\\\\\n",
       "\t active1     & -0.20526784 & 0.0258777296 &  -7.932220 &  2.152632e-15\\\\\n",
       "\\end{tabular}\n"
      ],
      "text/markdown": [
       "\n",
       "A tibble: 11 × 5\n",
       "\n",
       "| term &lt;chr&gt; | estimate &lt;dbl&gt; | std.error &lt;dbl&gt; | statistic &lt;dbl&gt; | p.value &lt;dbl&gt; |\n",
       "|---|---|---|---|---|\n",
       "| (Intercept) | -9.63049241 | 0.1228528112 | -78.390493 |  0.000000e+00 |\n",
       "| age         |          NA |           NA |         NA |            NA |\n",
       "| weight      |  0.01070806 | 0.0007995136 |  13.393213 |  6.625124e-41 |\n",
       "| gender      | -0.04159462 | 0.0232911386 |  -1.785856 |  7.412259e-02 |\n",
       "| ap_hi       |  0.05876483 | 0.0010985250 |  53.494307 |  0.000000e+00 |\n",
       "| ap_lo       |  0.01221309 | 0.0017271280 |   7.071329 |  1.534563e-12 |\n",
       "| cholesterol |  0.55863950 | 0.0184685939 |  30.248080 | 5.529679e-201 |\n",
       "| gluc        | -0.09440590 | 0.0209430992 |  -4.507733 |  6.552390e-06 |\n",
       "| smoke1      | -0.20695550 | 0.0410335674 |  -5.043566 |  4.569355e-07 |\n",
       "| alco1       | -0.21300362 | 0.0503194715 |  -4.233026 |  2.305680e-05 |\n",
       "| active1     | -0.20526784 | 0.0258777296 |  -7.932220 |  2.152632e-15 |\n",
       "\n"
      ],
      "text/plain": [
       "   term        estimate    std.error    statistic  p.value      \n",
       "1  (Intercept) -9.63049241 0.1228528112 -78.390493  0.000000e+00\n",
       "2  age                  NA           NA         NA            NA\n",
       "3  weight       0.01070806 0.0007995136  13.393213  6.625124e-41\n",
       "4  gender      -0.04159462 0.0232911386  -1.785856  7.412259e-02\n",
       "5  ap_hi        0.05876483 0.0010985250  53.494307  0.000000e+00\n",
       "6  ap_lo        0.01221309 0.0017271280   7.071329  1.534563e-12\n",
       "7  cholesterol  0.55863950 0.0184685939  30.248080 5.529679e-201\n",
       "8  gluc        -0.09440590 0.0209430992  -4.507733  6.552390e-06\n",
       "9  smoke1      -0.20695550 0.0410335674  -5.043566  4.569355e-07\n",
       "10 alco1       -0.21300362 0.0503194715  -4.233026  2.305680e-05\n",
       "11 active1     -0.20526784 0.0258777296  -7.932220  2.152632e-15"
      ]
     },
     "metadata": {},
     "output_type": "display_data"
    }
   ],
   "source": [
    "summary <- tidy(model3)\n",
    "summary"
   ]
  },
  {
   "cell_type": "code",
   "execution_count": 63,
   "metadata": {
    "vscode": {
     "languageId": "r"
    }
   },
   "outputs": [
    {
     "name": "stderr",
     "output_type": "stream",
     "text": [
      "Waiting for profiling to be done...\n",
      "\n"
     ]
    },
    {
     "data": {
      "text/html": [
       "<table class=\"dataframe\">\n",
       "<caption>A matrix: 11 × 2 of type dbl</caption>\n",
       "<thead>\n",
       "\t<tr><th></th><th scope=col>2.5 %</th><th scope=col>97.5 %</th></tr>\n",
       "</thead>\n",
       "<tbody>\n",
       "\t<tr><th scope=row>(Intercept)</th><td>-9.872154534</td><td>-9.390564575</td></tr>\n",
       "\t<tr><th scope=row>age</th><td>          NA</td><td>          NA</td></tr>\n",
       "\t<tr><th scope=row>weight</th><td> 0.009142334</td><td> 0.012276476</td></tr>\n",
       "\t<tr><th scope=row>gender</th><td>-0.087256906</td><td> 0.004044688</td></tr>\n",
       "\t<tr><th scope=row>ap_hi</th><td> 0.056619603</td><td> 0.060925920</td></tr>\n",
       "\t<tr><th scope=row>ap_lo</th><td> 0.008827728</td><td> 0.015598246</td></tr>\n",
       "\t<tr><th scope=row>cholesterol</th><td> 0.522525363</td><td> 0.594924307</td></tr>\n",
       "\t<tr><th scope=row>gluc</th><td>-0.135481670</td><td>-0.053381687</td></tr>\n",
       "\t<tr><th scope=row>smoke1</th><td>-0.287445753</td><td>-0.126588530</td></tr>\n",
       "\t<tr><th scope=row>alco1</th><td>-0.311717422</td><td>-0.114452299</td></tr>\n",
       "\t<tr><th scope=row>active1</th><td>-0.255992477</td><td>-0.154550776</td></tr>\n",
       "</tbody>\n",
       "</table>\n"
      ],
      "text/latex": [
       "A matrix: 11 × 2 of type dbl\n",
       "\\begin{tabular}{r|ll}\n",
       "  & 2.5 \\% & 97.5 \\%\\\\\n",
       "\\hline\n",
       "\t(Intercept) & -9.872154534 & -9.390564575\\\\\n",
       "\tage &           NA &           NA\\\\\n",
       "\tweight &  0.009142334 &  0.012276476\\\\\n",
       "\tgender & -0.087256906 &  0.004044688\\\\\n",
       "\tap\\_hi &  0.056619603 &  0.060925920\\\\\n",
       "\tap\\_lo &  0.008827728 &  0.015598246\\\\\n",
       "\tcholesterol &  0.522525363 &  0.594924307\\\\\n",
       "\tgluc & -0.135481670 & -0.053381687\\\\\n",
       "\tsmoke1 & -0.287445753 & -0.126588530\\\\\n",
       "\talco1 & -0.311717422 & -0.114452299\\\\\n",
       "\tactive1 & -0.255992477 & -0.154550776\\\\\n",
       "\\end{tabular}\n"
      ],
      "text/markdown": [
       "\n",
       "A matrix: 11 × 2 of type dbl\n",
       "\n",
       "| <!--/--> | 2.5 % | 97.5 % |\n",
       "|---|---|---|\n",
       "| (Intercept) | -9.872154534 | -9.390564575 |\n",
       "| age |           NA |           NA |\n",
       "| weight |  0.009142334 |  0.012276476 |\n",
       "| gender | -0.087256906 |  0.004044688 |\n",
       "| ap_hi |  0.056619603 |  0.060925920 |\n",
       "| ap_lo |  0.008827728 |  0.015598246 |\n",
       "| cholesterol |  0.522525363 |  0.594924307 |\n",
       "| gluc | -0.135481670 | -0.053381687 |\n",
       "| smoke1 | -0.287445753 | -0.126588530 |\n",
       "| alco1 | -0.311717422 | -0.114452299 |\n",
       "| active1 | -0.255992477 | -0.154550776 |\n",
       "\n"
      ],
      "text/plain": [
       "            2.5 %        97.5 %      \n",
       "(Intercept) -9.872154534 -9.390564575\n",
       "age                   NA           NA\n",
       "weight       0.009142334  0.012276476\n",
       "gender      -0.087256906  0.004044688\n",
       "ap_hi        0.056619603  0.060925920\n",
       "ap_lo        0.008827728  0.015598246\n",
       "cholesterol  0.522525363  0.594924307\n",
       "gluc        -0.135481670 -0.053381687\n",
       "smoke1      -0.287445753 -0.126588530\n",
       "alco1       -0.311717422 -0.114452299\n",
       "active1     -0.255992477 -0.154550776"
      ]
     },
     "metadata": {},
     "output_type": "display_data"
    }
   ],
   "source": [
    "mean_coef <- mean(summary$estimate)\n",
    "confint(model3)"
   ]
  },
  {
   "cell_type": "code",
   "execution_count": 37,
   "metadata": {
    "vscode": {
     "languageId": "r"
    }
   },
   "outputs": [
    {
     "name": "stderr",
     "output_type": "stream",
     "text": [
      "Setting levels: control = 0, case = 1\n",
      "\n",
      "Setting direction: controls < cases\n",
      "\n"
     ]
    },
    {
     "data": {
      "text/plain": [
       "\n",
       "Call:\n",
       "roc.formula(formula = test$cardio ~ y_hat1, plot = TRUE, print.auc = TRUE)\n",
       "\n",
       "Data: y_hat1 in 10334 controls (test$cardio 0) < 10263 cases (test$cardio 1).\n",
       "Area under the curve: 0.7735"
      ]
     },
     "metadata": {},
     "output_type": "display_data"
    },
    {
     "data": {
      "image/png": "[encoded data removed]",
      "text/plain": [
       "plot without title"
      ]
     },
     "metadata": {
      "image/png": {
       "height": 420,
       "width": 420
      }
     },
     "output_type": "display_data"
    }
   ],
   "source": [
    "# Plot the ROC curve\n",
    "roc(test$cardio ~ y_hat1, plot=TRUE, print.auc=TRUE)"
   ]
  },
  {
   "cell_type": "code",
   "execution_count": 38,
   "metadata": {
    "vscode": {
     "languageId": "r"
    }
   },
   "outputs": [
    {
     "name": "stderr",
     "output_type": "stream",
     "text": [
      "Setting levels: control = 0, case = 1\n",
      "\n",
      "Setting direction: controls < cases\n",
      "\n"
     ]
    },
    {
     "data": {
      "text/plain": [
       "\n",
       "Call:\n",
       "roc.formula(formula = test$cardio ~ y_hat2, plot = TRUE, print.auc = TRUE)\n",
       "\n",
       "Data: y_hat2 in 10334 controls (test$cardio 0) < 10263 cases (test$cardio 1).\n",
       "Area under the curve: 0.7732"
      ]
     },
     "metadata": {},
     "output_type": "display_data"
    },
    {
     "data": {
      "image/png": "[encoded data removed]",
      "text/plain": [
       "plot without title"
      ]
     },
     "metadata": {
      "image/png": {
       "height": 420,
       "width": 420
      }
     },
     "output_type": "display_data"
    }
   ],
   "source": [
    "roc(test$cardio ~ y_hat2, plot=TRUE, print.auc=TRUE)"
   ]
  },
  {
   "cell_type": "code",
   "execution_count": 68,
   "metadata": {
    "vscode": {
     "languageId": "r"
    }
   },
   "outputs": [],
   "source": [
    "X <- data[, !(names(data) %in% c(\"cardio\"))]\n",
    "y <- data$cardio\n",
    "\n",
    "data_split <- createDataPartition(y , p = 0.7, list = FALSE, times = 1)\n",
    "\n",
    "# Extract the training and validation sets\n",
    "X_train <- X[data_split, ]\n",
    "X_val <- X[-data_split, ]\n",
    "y_train <- y[data_split]\n",
    "y_val <- y[-data_split]\n",
    "\n",
    "# Define a list to store the accuracy values\n",
    "model_dict <- list()"
   ]
  },
  {
   "cell_type": "code",
   "execution_count": 69,
   "metadata": {
    "vscode": {
     "languageId": "r"
    }
   },
   "outputs": [],
   "source": [
    "X <- model.matrix(cardio ~ age + weight + ap_hi + ap_lo + cholesterol + gluc + smoke + alco, data = train)[, -1]  # model.matrix gets the design matrix of the model\n",
    "y <- train$cardio\n",
    "\n",
    "# Define the cross-validation scheme\n",
    "cvfit <- cv.glmnet(X, y, family = \"binomial\", type.measure = \"class\", alpha = 1,lambda = 10^seq(10, -2, length = 100))  # alpha = 1 for lasso penalty\n",
    "\n",
    "# Find the best lambda value\n",
    "best_lambda <- cvfit$lambda.min\n",
    "\n",
    "# Train the final model with the best lambda\n",
    "final_model <- glmnet(X, y, family = \"binomial\", alpha = 1, lambda = best_lambda, thresh = 0.0001)"
   ]
  },
  {
   "cell_type": "code",
   "execution_count": 70,
   "metadata": {
    "vscode": {
     "languageId": "r"
    }
   },
   "outputs": [
    {
     "name": "stdout",
     "output_type": "stream",
     "text": [
      "[1] \"Accuracy: 0.718793999126086\"\n"
     ]
    },
    {
     "name": "stderr",
     "output_type": "stream",
     "text": [
      "Setting levels: control = 0, case = 1\n",
      "\n",
      "Setting direction: controls < cases\n",
      "\n"
     ]
    },
    {
     "data": {
      "text/plain": [
       "\n",
       "Call:\n",
       "roc.formula(formula = test$cardio ~ y_hat, plot = TRUE, print.auc = TRUE)\n",
       "\n",
       "Data: y_hat in 10334 controls (test$cardio 0) < 10263 cases (test$cardio 1).\n",
       "Area under the curve: 0.7704"
      ]
     },
     "metadata": {},
     "output_type": "display_data"
    },
    {
     "data": {
      "image/png": "[encoded data removed]",
      "text/plain": [
       "plot without title"
      ]
     },
     "metadata": {
      "image/png": {
       "height": 420,
       "width": 420
      }
     },
     "output_type": "display_data"
    }
   ],
   "source": [
    "test_x <- model.matrix(cardio ~ age + weight + ap_hi + ap_lo + cholesterol + gluc + smoke + alco, data = test)[, -1]\n",
    "y_hat <- predict(final_model, newx = test_x, type = \"response\", s = best_lambda)[, 1]\n",
    "\n",
    "# Convert probabilities to class predictions\n",
    "pred_class <- ifelse(y_hat > 0.5, 1, 0)\n",
    "\n",
    "# Calculate accuracy\n",
    "accuracy <- sum(pred_class == test$cardio) / length(test$cardio)\n",
    "print(paste(\"Accuracy:\", accuracy))\n",
    "\n",
    "# Calculate AUC\n",
    "roc(test$cardio ~ y_hat, plot=TRUE, print.auc=TRUE)"
   ]
  },
  {
   "cell_type": "code",
   "execution_count": 71,
   "metadata": {
    "vscode": {
     "languageId": "r"
    }
   },
   "outputs": [
    {
     "ename": "ERROR",
     "evalue": "Error in family(object)$linkinv(pred): Argumento eta deve ser um vetor numérico não-vazio\n",
     "output_type": "error",
     "traceback": [
      "Error in family(object)$linkinv(pred): Argumento eta deve ser um vetor numérico não-vazio\nTraceback:\n",
      "1. predict(model1, newdata = data2, type = \"response\")",
      "2. predict.glm(model1, newdata = data2, type = \"response\")",
      "3. family(object)$linkinv(pred)"
     ]
    }
   ],
   "source": [
    "#Seleciona as linhas cuja idade está entre 50 e 60 anos\n",
    "data2 <- test[test$age >= 50 & test$age <= 60, ]\n",
    "data3 <- train[train$age >= 50 & train$age <= 60, ]\n",
    "\n",
    "data2$smoke <- factor(data2$smoke)\n",
    "data2$alco <- factor(data2$alco)\n",
    "data2$active <- factor(data2$active)\n",
    "data2$cardio <- factor(data2$cardio)\n",
    "\n",
    "probs <- predict(model1, newdata = data2, type = \"response\")\n",
    "mean_prob <- mean(probs)\n",
    "print(mean_prob)"
   ]
  },
  {
   "cell_type": "code",
   "execution_count": null,
   "metadata": {
    "vscode": {
     "languageId": "r"
    }
   },
   "outputs": [
    {
     "name": "stdout",
     "output_type": "stream",
     "text": [
      "[1] 0.5325504\n"
     ]
    }
   ],
   "source": [
    "probs <- predict(model2, newdata = data2, type = \"response\")\n",
    "mean_prob <- mean(probs)\n",
    "print(mean_prob)"
   ]
  },
  {
   "cell_type": "code",
   "execution_count": null,
   "metadata": {
    "vscode": {
     "languageId": "r"
    }
   },
   "outputs": [
    {
     "name": "stdout",
     "output_type": "stream",
     "text": [
      "[1] 0.5190397\n"
     ]
    }
   ],
   "source": [
    "# Vamos verificar a proporção dessas pessoas que têm uma doença cardiovascular\n",
    "prop_cardio <- mean(data3$cardio == 1)\n",
    "\n",
    "print(prop_cardio)"
   ]
  },
  {
   "cell_type": "code",
   "execution_count": 67,
   "metadata": {
    "vscode": {
     "languageId": "r"
    }
   },
   "outputs": [
    {
     "ename": "ERROR",
     "evalue": "Error in family(object)$linkinv(pred): Argumento eta deve ser um vetor numérico não-vazio\n",
     "output_type": "error",
     "traceback": [
      "Error in family(object)$linkinv(pred): Argumento eta deve ser um vetor numérico não-vazio\nTraceback:\n",
      "1. predict(model1, newdata = data4, type = \"response\")",
      "2. predict.glm(model1, newdata = data4, type = \"response\")",
      "3. family(object)$linkinv(pred)"
     ]
    }
   ],
   "source": [
    "#Seleciona as linhas cuja idade está entre 50 e 60 anos\n",
    "data4 <- test[test$age >= 60 & test$age <= 65, ]\n",
    "data5 <- train[train$age >= 60 & train$age <= 65, ]\n",
    "\n",
    "data4$smoke <- factor(data4$smoke)\n",
    "data4$alco <- factor(data4$alco)\n",
    "data4$active <- factor(data4$active)\n",
    "data4$cardio <- factor(data4$cardio)\n",
    "\n",
    "probs <- predict(model1, newdata = data4, type = \"response\")\n",
    "mean_prob <- mean(probs)\n",
    "print(mean_prob)"
   ]
  },
  {
   "cell_type": "code",
   "execution_count": null,
   "metadata": {
    "vscode": {
     "languageId": "r"
    }
   },
   "outputs": [
    {
     "name": "stdout",
     "output_type": "stream",
     "text": [
      "[1] 0.652683\n"
     ]
    }
   ],
   "source": [
    "#Seleciona as linhas cuja idade está entre 50 e 60 anos\n",
    "data4 <- test[test$age >= 60 & test$age <= 65, ]\n",
    "data5 <- train[train$age >= 60 & train$age <= 65, ]\n",
    "\n",
    "data4$smoke <- factor(data4$smoke)\n",
    "data4$alco <- factor(data4$alco)\n",
    "data4$active <- factor(data4$active)\n",
    "data4$cardio <- factor(data4$cardio)\n",
    "\n",
    "probs <- predict(model2, newdata = data4, type = \"response\")\n",
    "mean_prob <- mean(probs)\n",
    "print(mean_prob)"
   ]
  },
  {
   "cell_type": "code",
   "execution_count": null,
   "metadata": {
    "vscode": {
     "languageId": "r"
    }
   },
   "outputs": [
    {
     "name": "stdout",
     "output_type": "stream",
     "text": [
      "[1] 0.6715084\n"
     ]
    }
   ],
   "source": [
    "# Vamos verificar a proporção dessas pessoas que têm uma doença cardiovascular\n",
    "prop_cardio <- mean(data5$cardio == 1)\n",
    "\n",
    "print(prop_cardio)"
   ]
  }
 ],
 "metadata": {
  "kernelspec": {
   "display_name": "R",
   "language": "R",
   "name": "ir"
  },
  "language_info": {
   "codemirror_mode": "r",
   "file_extension": ".r",
   "mimetype": "text/x-r-source",
   "name": "R",
   "pygments_lexer": "r",
   "version": "4.3.1"
  },
  "orig_nbformat": 4
 },
 "nbformat": 4,
 "nbformat_minor": 2
}
