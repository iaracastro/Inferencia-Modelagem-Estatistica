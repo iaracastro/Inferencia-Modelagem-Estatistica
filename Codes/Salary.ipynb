{
 "cells": [
  {
   "cell_type": "code",
   "execution_count": 6,
   "metadata": {
    "vscode": {
     "languageId": "r"
    }
   },
   "outputs": [
    {
     "name": "stderr",
     "output_type": "stream",
     "text": [
      "── \u001b[1mAttaching core tidyverse packages\u001b[22m ──────────────────────── tidyverse 2.0.0 ──\n",
      "\u001b[32m✔\u001b[39m \u001b[34mdplyr    \u001b[39m 1.1.0     \u001b[32m✔\u001b[39m \u001b[34mreadr    \u001b[39m 2.1.4\n",
      "\u001b[32m✔\u001b[39m \u001b[34mforcats  \u001b[39m 1.0.0     \u001b[32m✔\u001b[39m \u001b[34mstringr  \u001b[39m 1.5.0\n",
      "\u001b[32m✔\u001b[39m \u001b[34mggplot2  \u001b[39m 3.4.1     \u001b[32m✔\u001b[39m \u001b[34mtibble   \u001b[39m 3.1.8\n",
      "\u001b[32m✔\u001b[39m \u001b[34mlubridate\u001b[39m 1.9.2     \u001b[32m✔\u001b[39m \u001b[34mtidyr    \u001b[39m 1.3.0\n",
      "\u001b[32m✔\u001b[39m \u001b[34mpurrr    \u001b[39m 1.0.1     \n",
      "── \u001b[1mConflicts\u001b[22m ────────────────────────────────────────── tidyverse_conflicts() ──\n",
      "\u001b[31m✖\u001b[39m \u001b[34mdplyr\u001b[39m::\u001b[32mfilter()\u001b[39m masks \u001b[34mstats\u001b[39m::filter()\n",
      "\u001b[31m✖\u001b[39m \u001b[34mdplyr\u001b[39m::\u001b[32mlag()\u001b[39m    masks \u001b[34mstats\u001b[39m::lag()\n",
      "\u001b[36mℹ\u001b[39m Use the conflicted package (\u001b[3m\u001b[34m<http://conflicted.r-lib.org/>\u001b[39m\u001b[23m) to force all conflicts to become errors\n",
      "Registered S3 method overwritten by 'GGally':\n",
      "  method from   \n",
      "  +.gg   ggplot2\n",
      "\n",
      "\n",
      "Attaching package: 'gridExtra'\n",
      "\n",
      "\n",
      "The following object is masked from 'package:dplyr':\n",
      "\n",
      "    combine\n",
      "\n",
      "\n",
      "Carregando pacotes exigidos: Rcpp\n",
      "\n",
      "This is rstanarm version 2.21.4\n",
      "\n",
      "- See https://mc-stan.org/rstanarm/articles/priors for changes to default priors!\n",
      "\n",
      "- Default priors may change, so it's safest to specify priors, even if equivalent to the defaults.\n",
      "\n",
      "- For execution on a local, multicore CPU with excess RAM we recommend calling\n",
      "\n",
      "  options(mc.cores = parallel::detectCores())\n",
      "\n",
      "\n",
      "Attaching package: 'rstanarm'\n",
      "\n",
      "\n",
      "The following object is masked from 'package:MuMIn':\n",
      "\n",
      "    loo\n",
      "\n",
      "\n",
      "Carregando pacotes exigidos: MASS\n",
      "\n",
      "\n",
      "Attaching package: 'MASS'\n",
      "\n",
      "\n",
      "The following object is masked from 'package:dplyr':\n",
      "\n",
      "    select\n",
      "\n",
      "\n",
      "Carregando pacotes exigidos: Matrix\n",
      "\n",
      "\n",
      "Attaching package: 'Matrix'\n",
      "\n",
      "\n",
      "The following objects are masked from 'package:tidyr':\n",
      "\n",
      "    expand, pack, unpack\n",
      "\n",
      "\n",
      "Carregando pacotes exigidos: lme4\n",
      "\n",
      "\n",
      "arm (Version 1.13-1, built: 2022-8-25)\n",
      "\n",
      "\n",
      "Working directory is c:/Users/iaram/OneDrive/Documentos/GitHub/Inferencia-Modelagem-Estatistica/Codes\n",
      "\n",
      "\n",
      "\n",
      "Attaching package: 'arm'\n",
      "\n",
      "\n",
      "The following objects are masked from 'package:rstanarm':\n",
      "\n",
      "    invlogit, logit\n",
      "\n",
      "\n",
      "The following object is masked from 'package:MuMIn':\n",
      "\n",
      "    coefplot\n",
      "\n",
      "\n"
     ]
    }
   ],
   "source": [
    "library(tidyverse)\n",
    "library(GGally)  # ggpairs\n",
    "library(MuMIn)  # AICc (Akaike Information Criterion corrected for small sample size)\n",
    "library(readr)\n",
    "library(ggplot2)\n",
    "library(gridExtra)\n",
    "library(rstanarm)\n",
    "library(arm)\n",
    "library(lattice)\n",
    "library(lme4)\n",
    "\n",
    "data <- read.csv('earnings.csv')"
   ]
  },
  {
   "cell_type": "code",
   "execution_count": 2,
   "metadata": {
    "vscode": {
     "languageId": "r"
    }
   },
   "outputs": [
    {
     "data": {
      "text/html": [
       "<table class=\"dataframe\">\n",
       "<caption>A data.frame: 6 × 15</caption>\n",
       "<thead>\n",
       "\t<tr><th></th><th scope=col>height</th><th scope=col>weight</th><th scope=col>male</th><th scope=col>earn</th><th scope=col>earnk</th><th scope=col>ethnicity</th><th scope=col>education</th><th scope=col>mother_education</th><th scope=col>father_education</th><th scope=col>walk</th><th scope=col>exercise</th><th scope=col>smokenow</th><th scope=col>tense</th><th scope=col>angry</th><th scope=col>age</th></tr>\n",
       "\t<tr><th></th><th scope=col>&lt;int&gt;</th><th scope=col>&lt;int&gt;</th><th scope=col>&lt;int&gt;</th><th scope=col>&lt;dbl&gt;</th><th scope=col>&lt;dbl&gt;</th><th scope=col>&lt;chr&gt;</th><th scope=col>&lt;int&gt;</th><th scope=col>&lt;int&gt;</th><th scope=col>&lt;int&gt;</th><th scope=col>&lt;int&gt;</th><th scope=col>&lt;int&gt;</th><th scope=col>&lt;int&gt;</th><th scope=col>&lt;int&gt;</th><th scope=col>&lt;int&gt;</th><th scope=col>&lt;int&gt;</th></tr>\n",
       "</thead>\n",
       "<tbody>\n",
       "\t<tr><th scope=row>1</th><td>74</td><td>210</td><td>1</td><td>50000</td><td>50</td><td>White</td><td>16</td><td>16</td><td>16</td><td>3</td><td>3</td><td>2</td><td>0</td><td>0</td><td>45</td></tr>\n",
       "\t<tr><th scope=row>2</th><td>66</td><td>125</td><td>0</td><td>60000</td><td>60</td><td>White</td><td>16</td><td>16</td><td>16</td><td>6</td><td>5</td><td>1</td><td>0</td><td>0</td><td>58</td></tr>\n",
       "\t<tr><th scope=row>3</th><td>64</td><td>126</td><td>0</td><td>30000</td><td>30</td><td>White</td><td>16</td><td>16</td><td>16</td><td>8</td><td>1</td><td>2</td><td>1</td><td>1</td><td>29</td></tr>\n",
       "\t<tr><th scope=row>4</th><td>65</td><td>200</td><td>0</td><td>25000</td><td>25</td><td>White</td><td>17</td><td>17</td><td>NA</td><td>8</td><td>1</td><td>2</td><td>0</td><td>0</td><td>57</td></tr>\n",
       "\t<tr><th scope=row>5</th><td>63</td><td>110</td><td>0</td><td>50000</td><td>50</td><td>Other</td><td>16</td><td>16</td><td>16</td><td>5</td><td>6</td><td>2</td><td>0</td><td>0</td><td>91</td></tr>\n",
       "\t<tr><th scope=row>6</th><td>68</td><td>165</td><td>0</td><td>62000</td><td>62</td><td>Black</td><td>18</td><td>18</td><td>18</td><td>1</td><td>1</td><td>2</td><td>2</td><td>2</td><td>54</td></tr>\n",
       "</tbody>\n",
       "</table>\n"
      ],
      "text/latex": [
       "A data.frame: 6 × 15\n",
       "\\begin{tabular}{r|lllllllllllllll}\n",
       "  & height & weight & male & earn & earnk & ethnicity & education & mother\\_education & father\\_education & walk & exercise & smokenow & tense & angry & age\\\\\n",
       "  & <int> & <int> & <int> & <dbl> & <dbl> & <chr> & <int> & <int> & <int> & <int> & <int> & <int> & <int> & <int> & <int>\\\\\n",
       "\\hline\n",
       "\t1 & 74 & 210 & 1 & 50000 & 50 & White & 16 & 16 & 16 & 3 & 3 & 2 & 0 & 0 & 45\\\\\n",
       "\t2 & 66 & 125 & 0 & 60000 & 60 & White & 16 & 16 & 16 & 6 & 5 & 1 & 0 & 0 & 58\\\\\n",
       "\t3 & 64 & 126 & 0 & 30000 & 30 & White & 16 & 16 & 16 & 8 & 1 & 2 & 1 & 1 & 29\\\\\n",
       "\t4 & 65 & 200 & 0 & 25000 & 25 & White & 17 & 17 & NA & 8 & 1 & 2 & 0 & 0 & 57\\\\\n",
       "\t5 & 63 & 110 & 0 & 50000 & 50 & Other & 16 & 16 & 16 & 5 & 6 & 2 & 0 & 0 & 91\\\\\n",
       "\t6 & 68 & 165 & 0 & 62000 & 62 & Black & 18 & 18 & 18 & 1 & 1 & 2 & 2 & 2 & 54\\\\\n",
       "\\end{tabular}\n"
      ],
      "text/markdown": [
       "\n",
       "A data.frame: 6 × 15\n",
       "\n",
       "| <!--/--> | height &lt;int&gt; | weight &lt;int&gt; | male &lt;int&gt; | earn &lt;dbl&gt; | earnk &lt;dbl&gt; | ethnicity &lt;chr&gt; | education &lt;int&gt; | mother_education &lt;int&gt; | father_education &lt;int&gt; | walk &lt;int&gt; | exercise &lt;int&gt; | smokenow &lt;int&gt; | tense &lt;int&gt; | angry &lt;int&gt; | age &lt;int&gt; |\n",
       "|---|---|---|---|---|---|---|---|---|---|---|---|---|---|---|---|\n",
       "| 1 | 74 | 210 | 1 | 50000 | 50 | White | 16 | 16 | 16 | 3 | 3 | 2 | 0 | 0 | 45 |\n",
       "| 2 | 66 | 125 | 0 | 60000 | 60 | White | 16 | 16 | 16 | 6 | 5 | 1 | 0 | 0 | 58 |\n",
       "| 3 | 64 | 126 | 0 | 30000 | 30 | White | 16 | 16 | 16 | 8 | 1 | 2 | 1 | 1 | 29 |\n",
       "| 4 | 65 | 200 | 0 | 25000 | 25 | White | 17 | 17 | NA | 8 | 1 | 2 | 0 | 0 | 57 |\n",
       "| 5 | 63 | 110 | 0 | 50000 | 50 | Other | 16 | 16 | 16 | 5 | 6 | 2 | 0 | 0 | 91 |\n",
       "| 6 | 68 | 165 | 0 | 62000 | 62 | Black | 18 | 18 | 18 | 1 | 1 | 2 | 2 | 2 | 54 |\n",
       "\n"
      ],
      "text/plain": [
       "  height weight male earn  earnk ethnicity education mother_education\n",
       "1 74     210    1    50000 50    White     16        16              \n",
       "2 66     125    0    60000 60    White     16        16              \n",
       "3 64     126    0    30000 30    White     16        16              \n",
       "4 65     200    0    25000 25    White     17        17              \n",
       "5 63     110    0    50000 50    Other     16        16              \n",
       "6 68     165    0    62000 62    Black     18        18              \n",
       "  father_education walk exercise smokenow tense angry age\n",
       "1 16               3    3        2        0     0     45 \n",
       "2 16               6    5        1        0     0     58 \n",
       "3 16               8    1        2        1     1     29 \n",
       "4 NA               8    1        2        0     0     57 \n",
       "5 16               5    6        2        0     0     91 \n",
       "6 18               1    1        2        2     2     54 "
      ]
     },
     "metadata": {},
     "output_type": "display_data"
    }
   ],
   "source": [
    "head(data)"
   ]
  },
  {
   "cell_type": "code",
   "execution_count": 17,
   "metadata": {
    "vscode": {
     "languageId": "r"
    }
   },
   "outputs": [
    {
     "name": "stderr",
     "output_type": "stream",
     "text": [
      "\u001b[1m\u001b[22m`geom_smooth()` using formula = 'y ~ x'\n",
      "Warning message:\n",
      "\"\u001b[1m\u001b[22mRemoved 244 rows containing non-finite values (`stat_smooth()`).\"\n",
      "\u001b[1m\u001b[22m`geom_smooth()` using formula = 'y ~ x'\n",
      "Warning message:\n",
      "\"\u001b[1m\u001b[22mRemoved 295 rows containing non-finite values (`stat_smooth()`).\"\n"
     ]
    },
    {
     "data": {
      "image/png": "[encoded data removed]",
      "text/plain": [
       "plot without title"
      ]
     },
     "metadata": {
      "image/png": {
       "height": 480,
       "width": 900
      }
     },
     "output_type": "display_data"
    }
   ],
   "source": [
    "options(repr.plot.width = 15, repr.plot.height = 8)\n",
    "a <- ggplot(data, aes(x = mother_education, y = earn)) + \n",
    "    \n",
    "    geom_smooth(method = 'lm') \n",
    "\n",
    "b <- ggplot(data, aes(x = father_education, y = earn)) + \n",
    "    geom_smooth(method = 'lm')\n",
    "\n",
    "grid.arrange(a, b, nrow = 1)"
   ]
  },
  {
   "cell_type": "code",
   "execution_count": 30,
   "metadata": {
    "vscode": {
     "languageId": "r"
    }
   },
   "outputs": [
    {
     "data": {
      "text/plain": [
       "\n",
       "Call:\n",
       "glm(formula = log(earn) ~ height + male, data = data, subset = (earn > \n",
       "    0))\n",
       "\n",
       "Deviance Residuals: \n",
       "    Min       1Q   Median       3Q      Max  \n",
       "-4.2749  -0.4243   0.1140   0.5767   2.8353  \n",
       "\n",
       "Coefficients:\n",
       "            Estimate Std. Error t value Pr(>|t|)    \n",
       "(Intercept)  7.97633    0.50624  15.756  < 2e-16 ***\n",
       "height       0.02383    0.00783   3.044  0.00237 ** \n",
       "male         0.37151    0.06168   6.023 2.11e-09 ***\n",
       "---\n",
       "Signif. codes:  0 '***' 0.001 '**' 0.01 '*' 0.05 '.' 0.1 ' ' 1\n",
       "\n",
       "(Dispersion parameter for gaussian family taken to be 0.7532281)\n",
       "\n",
       "    Null deviance: 1331.3  on 1628  degrees of freedom\n",
       "Residual deviance: 1224.7  on 1626  degrees of freedom\n",
       "AIC: 4166.3\n",
       "\n",
       "Number of Fisher Scoring iterations: 2\n"
      ]
     },
     "metadata": {},
     "output_type": "display_data"
    }
   ],
   "source": [
    "model1 <- glm(log(earn) ~ height + male,\n",
    "                data = data, subset=(earn>0))\n",
    "\n",
    "\n",
    "summary(model1)"
   ]
  },
  {
   "cell_type": "code",
   "execution_count": 31,
   "metadata": {
    "vscode": {
     "languageId": "r"
    }
   },
   "outputs": [
    {
     "data": {
      "image/png": "[encoded data removed]",
      "text/plain": [
       "Plot with title \"Histogram of predict(model1)\""
      ]
     },
     "metadata": {
      "image/png": {
       "height": 480,
       "width": 900
      }
     },
     "output_type": "display_data"
    }
   ],
   "source": [
    "hist(predict(model1))"
   ]
  },
  {
   "cell_type": "code",
   "execution_count": 33,
   "metadata": {
    "vscode": {
     "languageId": "r"
    }
   },
   "outputs": [
    {
     "name": "stdout",
     "output_type": "stream",
     "text": [
      "\n",
      "SAMPLING FOR MODEL 'continuous' NOW (CHAIN 1).\n",
      "Chain 1: \n",
      "Chain 1: Gradient evaluation took 0 seconds\n",
      "Chain 1: 1000 transitions using 10 leapfrog steps per transition would take 0 seconds.\n",
      "Chain 1: Adjust your expectations accordingly!\n",
      "Chain 1: \n",
      "Chain 1: \n",
      "Chain 1: Iteration:    1 / 2000 [  0%]  (Warmup)\n",
      "Chain 1: Iteration:  200 / 2000 [ 10%]  (Warmup)\n",
      "Chain 1: Iteration:  400 / 2000 [ 20%]  (Warmup)\n",
      "Chain 1: Iteration:  600 / 2000 [ 30%]  (Warmup)\n",
      "Chain 1: Iteration:  800 / 2000 [ 40%]  (Warmup)\n",
      "Chain 1: Iteration: 1000 / 2000 [ 50%]  (Warmup)\n",
      "Chain 1: Iteration: 1001 / 2000 [ 50%]  (Sampling)\n",
      "Chain 1: Iteration: 1200 / 2000 [ 60%]  (Sampling)\n",
      "Chain 1: Iteration: 1400 / 2000 [ 70%]  (Sampling)\n",
      "Chain 1: Iteration: 1600 / 2000 [ 80%]  (Sampling)\n",
      "Chain 1: Iteration: 1800 / 2000 [ 90%]  (Sampling)\n",
      "Chain 1: Iteration: 2000 / 2000 [100%]  (Sampling)\n",
      "Chain 1: \n",
      "Chain 1:  Elapsed Time: 0.113 seconds (Warm-up)\n",
      "Chain 1:                0.346 seconds (Sampling)\n",
      "Chain 1:                0.459 seconds (Total)\n",
      "Chain 1: \n",
      "\n",
      "SAMPLING FOR MODEL 'continuous' NOW (CHAIN 2).\n",
      "Chain 2: \n",
      "Chain 2: Gradient evaluation took 0 seconds\n",
      "Chain 2: 1000 transitions using 10 leapfrog steps per transition would take 0 seconds.\n",
      "Chain 2: Adjust your expectations accordingly!\n",
      "Chain 2: \n",
      "Chain 2: \n",
      "Chain 2: Iteration:    1 / 2000 [  0%]  (Warmup)\n",
      "Chain 2: Iteration:  200 / 2000 [ 10%]  (Warmup)\n",
      "Chain 2: Iteration:  400 / 2000 [ 20%]  (Warmup)\n",
      "Chain 2: Iteration:  600 / 2000 [ 30%]  (Warmup)\n",
      "Chain 2: Iteration:  800 / 2000 [ 40%]  (Warmup)\n",
      "Chain 2: Iteration: 1000 / 2000 [ 50%]  (Warmup)\n",
      "Chain 2: Iteration: 1001 / 2000 [ 50%]  (Sampling)\n",
      "Chain 2: Iteration: 1200 / 2000 [ 60%]  (Sampling)\n",
      "Chain 2: Iteration: 1400 / 2000 [ 70%]  (Sampling)\n",
      "Chain 2: Iteration: 1600 / 2000 [ 80%]  (Sampling)\n",
      "Chain 2: Iteration: 1800 / 2000 [ 90%]  (Sampling)\n",
      "Chain 2: Iteration: 2000 / 2000 [100%]  (Sampling)\n",
      "Chain 2: \n",
      "Chain 2:  Elapsed Time: 0.134 seconds (Warm-up)\n",
      "Chain 2:                0.348 seconds (Sampling)\n",
      "Chain 2:                0.482 seconds (Total)\n",
      "Chain 2: \n",
      "\n",
      "SAMPLING FOR MODEL 'continuous' NOW (CHAIN 3).\n",
      "Chain 3: \n",
      "Chain 3: Gradient evaluation took 0 seconds\n",
      "Chain 3: 1000 transitions using 10 leapfrog steps per transition would take 0 seconds.\n",
      "Chain 3: Adjust your expectations accordingly!\n",
      "Chain 3: \n",
      "Chain 3: \n",
      "Chain 3: Iteration:    1 / 2000 [  0%]  (Warmup)\n",
      "Chain 3: Iteration:  200 / 2000 [ 10%]  (Warmup)\n",
      "Chain 3: Iteration:  400 / 2000 [ 20%]  (Warmup)\n",
      "Chain 3: Iteration:  600 / 2000 [ 30%]  (Warmup)\n",
      "Chain 3: Iteration:  800 / 2000 [ 40%]  (Warmup)\n",
      "Chain 3: Iteration: 1000 / 2000 [ 50%]  (Warmup)\n",
      "Chain 3: Iteration: 1001 / 2000 [ 50%]  (Sampling)\n",
      "Chain 3: Iteration: 1200 / 2000 [ 60%]  (Sampling)\n",
      "Chain 3: Iteration: 1400 / 2000 [ 70%]  (Sampling)\n",
      "Chain 3: Iteration: 1600 / 2000 [ 80%]  (Sampling)\n",
      "Chain 3: Iteration: 1800 / 2000 [ 90%]  (Sampling)\n",
      "Chain 3: Iteration: 2000 / 2000 [100%]  (Sampling)\n",
      "Chain 3: \n",
      "Chain 3:  Elapsed Time: 0.093 seconds (Warm-up)\n",
      "Chain 3:                0.335 seconds (Sampling)\n",
      "Chain 3:                0.428 seconds (Total)\n",
      "Chain 3: \n",
      "\n",
      "SAMPLING FOR MODEL 'continuous' NOW (CHAIN 4).\n",
      "Chain 4: \n",
      "Chain 4: Gradient evaluation took 0 seconds\n",
      "Chain 4: 1000 transitions using 10 leapfrog steps per transition would take 0 seconds.\n",
      "Chain 4: Adjust your expectations accordingly!\n",
      "Chain 4: \n",
      "Chain 4: \n",
      "Chain 4: Iteration:    1 / 2000 [  0%]  (Warmup)\n",
      "Chain 4: Iteration:  200 / 2000 [ 10%]  (Warmup)\n",
      "Chain 4: Iteration:  400 / 2000 [ 20%]  (Warmup)\n",
      "Chain 4: Iteration:  600 / 2000 [ 30%]  (Warmup)\n",
      "Chain 4: Iteration:  800 / 2000 [ 40%]  (Warmup)\n",
      "Chain 4: Iteration: 1000 / 2000 [ 50%]  (Warmup)\n",
      "Chain 4: Iteration: 1001 / 2000 [ 50%]  (Sampling)\n",
      "Chain 4: Iteration: 1200 / 2000 [ 60%]  (Sampling)\n",
      "Chain 4: Iteration: 1400 / 2000 [ 70%]  (Sampling)\n",
      "Chain 4: Iteration: 1600 / 2000 [ 80%]  (Sampling)\n",
      "Chain 4: Iteration: 1800 / 2000 [ 90%]  (Sampling)\n",
      "Chain 4: Iteration: 2000 / 2000 [100%]  (Sampling)\n",
      "Chain 4: \n",
      "Chain 4:  Elapsed Time: 0.134 seconds (Warm-up)\n",
      "Chain 4:                0.332 seconds (Sampling)\n",
      "Chain 4:                0.466 seconds (Total)\n",
      "Chain 4: \n"
     ]
    }
   ],
   "source": [
    "logmodel_1 <- stan_glm(log(earn) ~ height, data=data, subset=(earn>0))"
   ]
  },
  {
   "cell_type": "code",
   "execution_count": 34,
   "metadata": {
    "vscode": {
     "languageId": "r"
    }
   },
   "outputs": [
    {
     "data": {
      "text/plain": [
       "\n",
       "Model Info:\n",
       " function:     stan_glm\n",
       " family:       gaussian [identity]\n",
       " formula:      log(earn) ~ height\n",
       " algorithm:    sampling\n",
       " sample:       4000 (posterior sample size)\n",
       " priors:       see help('prior_summary')\n",
       " observations: 1629\n",
       " predictors:   2\n",
       " subset:       (earn > 0)\n",
       "\n",
       "Estimates:\n",
       "              mean   sd   10%   50%   90%\n",
       "(Intercept) 5.9    0.4  5.4   5.9   6.4  \n",
       "height      0.1    0.0  0.0   0.1   0.1  \n",
       "sigma       0.9    0.0  0.9   0.9   0.9  \n",
       "\n",
       "Fit Diagnostics:\n",
       "           mean   sd   10%   50%   90%\n",
       "mean_PPD 9.7    0.0  9.7   9.7   9.8  \n",
       "\n",
       "The mean_ppd is the sample average posterior predictive distribution of the outcome variable (for details see help('summary.stanreg')).\n",
       "\n",
       "MCMC diagnostics\n",
       "              mcse Rhat n_eff\n",
       "(Intercept)   0.0  1.0  4288 \n",
       "height        0.0  1.0  4298 \n",
       "sigma         0.0  1.0  3872 \n",
       "mean_PPD      0.0  1.0  3972 \n",
       "log-posterior 0.0  1.0  1835 \n",
       "\n",
       "For each parameter, mcse is Monte Carlo standard error, n_eff is a crude measure of effective sample size, and Rhat is the potential scale reduction factor on split chains (at convergence Rhat=1)."
      ]
     },
     "metadata": {},
     "output_type": "display_data"
    }
   ],
   "source": [
    "summary(logmodel_1)"
   ]
  },
  {
   "cell_type": "code",
   "execution_count": 35,
   "metadata": {
    "vscode": {
     "languageId": "r"
    }
   },
   "outputs": [
    {
     "data": {
      "image/png": "[encoded data removed]",
      "text/plain": [
       "Plot with title \"Histogram of predict(logmodel_1)\""
      ]
     },
     "metadata": {
      "image/png": {
       "height": 480,
       "width": 900
      }
     },
     "output_type": "display_data"
    }
   ],
   "source": [
    "hist(predict(logmodel_1))"
   ]
  },
  {
   "cell_type": "code",
   "execution_count": 31,
   "metadata": {
    "vscode": {
     "languageId": "r"
    }
   },
   "outputs": [],
   "source": [
    "source('functions.r')\n",
    "\n",
    "formula <- \"earn ~ age + education\"\n",
    "y <- \"earn\"\n",
    "\n",
    "leave_one_out <- function(row) {\n",
    "    model <- glm(formula, data = data[-row, ])\n",
    "    return(model_evaluation(model, data[row, ], data[[y]][row], FALSE))\n",
    "}\n",
    "\n",
    "\n",
    "result <- do.call(rbind, lapply(1:nrow(data), leave_one_out))"
   ]
  },
  {
   "cell_type": "code",
   "execution_count": 32,
   "metadata": {
    "vscode": {
     "languageId": "r"
    }
   },
   "outputs": [
    {
     "data": {
      "text/html": [
       "<table class=\"dataframe\">\n",
       "<caption>A data.frame: 5 × 7</caption>\n",
       "<thead>\n",
       "\t<tr><th></th><th scope=col>Bias</th><th scope=col>RMSE</th><th scope=col>MARE</th><th scope=col>R2</th><th scope=col>AIC</th><th scope=col>BIC</th><th scope=col>AICc</th></tr>\n",
       "\t<tr><th></th><th scope=col>&lt;dbl&gt;</th><th scope=col>&lt;dbl&gt;</th><th scope=col>&lt;dbl&gt;</th><th scope=col>&lt;dbl&gt;</th><th scope=col>&lt;dbl&gt;</th><th scope=col>&lt;dbl&gt;</th><th scope=col>&lt;dbl&gt;</th></tr>\n",
       "</thead>\n",
       "<tbody>\n",
       "\t<tr><th scope=row>1</th><td>-20593.537</td><td>20593.537</td><td>20593.537</td><td>NaN</td><td>41285.41</td><td>41307.42</td><td>41285.43</td></tr>\n",
       "\t<tr><th scope=row>2</th><td>-28488.527</td><td>28488.527</td><td>28488.527</td><td>NaN</td><td>41284.55</td><td>41306.56</td><td>41284.57</td></tr>\n",
       "\t<tr><th scope=row>3</th><td> -3195.288</td><td> 3195.288</td><td> 3195.288</td><td>NaN</td><td>41286.32</td><td>41308.33</td><td>41286.34</td></tr>\n",
       "\t<tr><th scope=row>4</th><td>  9296.549</td><td> 9296.549</td><td> 9296.549</td><td>NaN</td><td>41286.15</td><td>41308.16</td><td>41286.17</td></tr>\n",
       "\t<tr><th scope=row>5</th><td>-13108.320</td><td>13108.320</td><td>13108.320</td><td>NaN</td><td>41285.97</td><td>41307.98</td><td>41285.99</td></tr>\n",
       "</tbody>\n",
       "</table>\n"
      ],
      "text/latex": [
       "A data.frame: 5 × 7\n",
       "\\begin{tabular}{r|lllllll}\n",
       "  & Bias & RMSE & MARE & R2 & AIC & BIC & AICc\\\\\n",
       "  & <dbl> & <dbl> & <dbl> & <dbl> & <dbl> & <dbl> & <dbl>\\\\\n",
       "\\hline\n",
       "\t1 & -20593.537 & 20593.537 & 20593.537 & NaN & 41285.41 & 41307.42 & 41285.43\\\\\n",
       "\t2 & -28488.527 & 28488.527 & 28488.527 & NaN & 41284.55 & 41306.56 & 41284.57\\\\\n",
       "\t3 &  -3195.288 &  3195.288 &  3195.288 & NaN & 41286.32 & 41308.33 & 41286.34\\\\\n",
       "\t4 &   9296.549 &  9296.549 &  9296.549 & NaN & 41286.15 & 41308.16 & 41286.17\\\\\n",
       "\t5 & -13108.320 & 13108.320 & 13108.320 & NaN & 41285.97 & 41307.98 & 41285.99\\\\\n",
       "\\end{tabular}\n"
      ],
      "text/markdown": [
       "\n",
       "A data.frame: 5 × 7\n",
       "\n",
       "| <!--/--> | Bias &lt;dbl&gt; | RMSE &lt;dbl&gt; | MARE &lt;dbl&gt; | R2 &lt;dbl&gt; | AIC &lt;dbl&gt; | BIC &lt;dbl&gt; | AICc &lt;dbl&gt; |\n",
       "|---|---|---|---|---|---|---|---|\n",
       "| 1 | -20593.537 | 20593.537 | 20593.537 | NaN | 41285.41 | 41307.42 | 41285.43 |\n",
       "| 2 | -28488.527 | 28488.527 | 28488.527 | NaN | 41284.55 | 41306.56 | 41284.57 |\n",
       "| 3 |  -3195.288 |  3195.288 |  3195.288 | NaN | 41286.32 | 41308.33 | 41286.34 |\n",
       "| 4 |   9296.549 |  9296.549 |  9296.549 | NaN | 41286.15 | 41308.16 | 41286.17 |\n",
       "| 5 | -13108.320 | 13108.320 | 13108.320 | NaN | 41285.97 | 41307.98 | 41285.99 |\n",
       "\n"
      ],
      "text/plain": [
       "  Bias       RMSE      MARE      R2  AIC      BIC      AICc    \n",
       "1 -20593.537 20593.537 20593.537 NaN 41285.41 41307.42 41285.43\n",
       "2 -28488.527 28488.527 28488.527 NaN 41284.55 41306.56 41284.57\n",
       "3  -3195.288  3195.288  3195.288 NaN 41286.32 41308.33 41286.34\n",
       "4   9296.549  9296.549  9296.549 NaN 41286.15 41308.16 41286.17\n",
       "5 -13108.320 13108.320 13108.320 NaN 41285.97 41307.98 41285.99"
      ]
     },
     "metadata": {},
     "output_type": "display_data"
    }
   ],
   "source": [
    "result[1:5,]"
   ]
  },
  {
   "cell_type": "code",
   "execution_count": null,
   "metadata": {
    "vscode": {
     "languageId": "r"
    }
   },
   "outputs": [],
   "source": []
  }
 ],
 "metadata": {
  "kernelspec": {
   "display_name": "R",
   "language": "R",
   "name": "ir"
  },
  "language_info": {
   "codemirror_mode": "r",
   "file_extension": ".r",
   "mimetype": "text/x-r-source",
   "name": "R",
   "pygments_lexer": "r",
   "version": "4.2.3"
  },
  "orig_nbformat": 4
 },
 "nbformat": 4,
 "nbformat_minor": 2
}
