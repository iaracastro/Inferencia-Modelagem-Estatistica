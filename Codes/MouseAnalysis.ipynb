{
 "cells": [
  {
   "attachments": {},
   "cell_type": "markdown",
   "metadata": {},
   "source": [
    "### Objetivo\n",
    "\n",
    "Neste exercício, vamos estender o que é pedido no exercício 1 da seção 11.7 de GH (página 248). Vamos analisar dados de infestação de roedores em Nova Iorque, e modelar a probabilidade de um apartamento estar infestado, levando em conta o distrito (\"neighbourhood\") e outras características específicas do imóvel em questão (como a etnia dos seus ocupantes)."
   ]
  },
  {
   "cell_type": "code",
   "execution_count": 3,
   "metadata": {
    "vscode": {
     "languageId": "r"
    }
   },
   "outputs": [
    {
     "name": "stderr",
     "output_type": "stream",
     "text": [
      "\u001b[1mRows: \u001b[22m\u001b[34m4209\u001b[39m \u001b[1mColumns: \u001b[22m\u001b[34m57\u001b[39m\n",
      "\u001b[36m──\u001b[39m \u001b[1mColumn specification\u001b[22m \u001b[36m────────────────────────────────────────────────────────\u001b[39m\n",
      "\u001b[1mDelimiter:\u001b[22m \",\"\n",
      "\u001b[32mdbl\u001b[39m (57): bldg, y, defects, poor, race.x, floor, dist, borough, numunits, st...\n",
      "\n",
      "\u001b[36mℹ\u001b[39m Use `spec()` to retrieve the full column specification for this data.\n",
      "\u001b[36mℹ\u001b[39m Specify the column types or set `show_col_types = FALSE` to quiet this message.\n"
     ]
    }
   ],
   "source": [
    "library(tidyverse)\n",
    "library(GGally)  # ggpairs\n",
    "library(MuMIn)  # AICc (Akaike Information Criterion corrected for small sample size)\n",
    "library(MASS)  # negative.binomial\n",
    "library(readr)\n",
    "library(ggplot2)\n",
    "library(gridExtra)\n",
    "library(rstanarm)\n",
    "library(pROC)\n",
    "library(boot)\n",
    "library(foreign)\n",
    "library(arm)\n",
    "library(lattice)\n",
    "library(lme4)\n",
    "library(parallel)\n",
    "\n",
    "urlfile = \"https://raw.githubusercontent.com/maxbiostat/stats_modelling/master/data/mickey_mouse.csv\"\n",
    "data <- read_csv(url(urlfile))"
   ]
  },
  {
   "cell_type": "code",
   "execution_count": 4,
   "metadata": {
    "vscode": {
     "languageId": "r"
    }
   },
   "outputs": [
    {
     "data": {
      "text/html": [
       "<table class=\"dataframe\">\n",
       "<caption>A tibble: 6 × 57</caption>\n",
       "<thead>\n",
       "\t<tr><th scope=col>bldg</th><th scope=col>y</th><th scope=col>defects</th><th scope=col>poor</th><th scope=col>race.x</th><th scope=col>floor</th><th scope=col>dist</th><th scope=col>borough</th><th scope=col>numunits</th><th scope=col>stories</th><th scope=col>⋯</th><th scope=col>struct_Mean</th><th scope=col>dilap_Mean</th><th scope=col>ownhous_Mean</th><th scope=col>duration_Mean</th><th scope=col>extwin4_2_Mean</th><th scope=col>extflr5_2_Mean</th><th scope=col>intcrack2_Mean</th><th scope=col>inthole2_Mean</th><th scope=col>intleak2_Mean</th><th scope=col>vacrate</th></tr>\n",
       "\t<tr><th scope=col>&lt;dbl&gt;</th><th scope=col>&lt;dbl&gt;</th><th scope=col>&lt;dbl&gt;</th><th scope=col>&lt;dbl&gt;</th><th scope=col>&lt;dbl&gt;</th><th scope=col>&lt;dbl&gt;</th><th scope=col>&lt;dbl&gt;</th><th scope=col>&lt;dbl&gt;</th><th scope=col>&lt;dbl&gt;</th><th scope=col>&lt;dbl&gt;</th><th scope=col>⋯</th><th scope=col>&lt;dbl&gt;</th><th scope=col>&lt;dbl&gt;</th><th scope=col>&lt;dbl&gt;</th><th scope=col>&lt;dbl&gt;</th><th scope=col>&lt;dbl&gt;</th><th scope=col>&lt;dbl&gt;</th><th scope=col>&lt;dbl&gt;</th><th scope=col>&lt;dbl&gt;</th><th scope=col>&lt;dbl&gt;</th><th scope=col>&lt;dbl&gt;</th></tr>\n",
       "</thead>\n",
       "<tbody>\n",
       "\t<tr><td>33</td><td>1</td><td>5.000000</td><td>5</td><td>3</td><td>5</td><td>1</td><td>1</td><td>10</td><td>4</td><td>⋯</td><td>0.43</td><td>0.03</td><td>0.05</td><td>11.6</td><td>0.02</td><td>0.07</td><td>0.22</td><td>0.16</td><td>0.27</td><td>0.05</td></tr>\n",
       "\t<tr><td>35</td><td>1</td><td>5.000000</td><td>4</td><td>3</td><td>6</td><td>1</td><td>1</td><td>10</td><td>4</td><td>⋯</td><td>0.43</td><td>0.03</td><td>0.05</td><td>11.6</td><td>0.02</td><td>0.07</td><td>0.22</td><td>0.16</td><td>0.27</td><td>0.05</td></tr>\n",
       "\t<tr><td>35</td><td>1</td><td>5.000000</td><td>4</td><td>3</td><td>6</td><td>1</td><td>1</td><td>10</td><td>4</td><td>⋯</td><td>0.43</td><td>0.03</td><td>0.05</td><td>11.6</td><td>0.02</td><td>0.07</td><td>0.22</td><td>0.16</td><td>0.27</td><td>0.05</td></tr>\n",
       "\t<tr><td>35</td><td>1</td><td>3.000000</td><td>6</td><td>2</td><td>5</td><td>1</td><td>1</td><td>10</td><td>4</td><td>⋯</td><td>0.43</td><td>0.03</td><td>0.05</td><td>11.6</td><td>0.02</td><td>0.07</td><td>0.22</td><td>0.16</td><td>0.27</td><td>0.05</td></tr>\n",
       "\t<tr><td>35</td><td>1</td><td>3.000000</td><td>6</td><td>2</td><td>5</td><td>1</td><td>1</td><td>10</td><td>4</td><td>⋯</td><td>0.43</td><td>0.03</td><td>0.05</td><td>11.6</td><td>0.02</td><td>0.07</td><td>0.22</td><td>0.16</td><td>0.27</td><td>0.05</td></tr>\n",
       "\t<tr><td>39</td><td>1</td><td>1.163636</td><td>5</td><td>4</td><td>6</td><td>1</td><td>1</td><td> 8</td><td>4</td><td>⋯</td><td>0.43</td><td>0.03</td><td>0.05</td><td>11.6</td><td>0.02</td><td>0.07</td><td>0.22</td><td>0.16</td><td>0.27</td><td>0.05</td></tr>\n",
       "</tbody>\n",
       "</table>\n"
      ],
      "text/latex": [
       "A tibble: 6 × 57\n",
       "\\begin{tabular}{lllllllllllllllllllll}\n",
       " bldg & y & defects & poor & race.x & floor & dist & borough & numunits & stories & ⋯ & struct\\_Mean & dilap\\_Mean & ownhous\\_Mean & duration\\_Mean & extwin4\\_2\\_Mean & extflr5\\_2\\_Mean & intcrack2\\_Mean & inthole2\\_Mean & intleak2\\_Mean & vacrate\\\\\n",
       " <dbl> & <dbl> & <dbl> & <dbl> & <dbl> & <dbl> & <dbl> & <dbl> & <dbl> & <dbl> & ⋯ & <dbl> & <dbl> & <dbl> & <dbl> & <dbl> & <dbl> & <dbl> & <dbl> & <dbl> & <dbl>\\\\\n",
       "\\hline\n",
       "\t 33 & 1 & 5.000000 & 5 & 3 & 5 & 1 & 1 & 10 & 4 & ⋯ & 0.43 & 0.03 & 0.05 & 11.6 & 0.02 & 0.07 & 0.22 & 0.16 & 0.27 & 0.05\\\\\n",
       "\t 35 & 1 & 5.000000 & 4 & 3 & 6 & 1 & 1 & 10 & 4 & ⋯ & 0.43 & 0.03 & 0.05 & 11.6 & 0.02 & 0.07 & 0.22 & 0.16 & 0.27 & 0.05\\\\\n",
       "\t 35 & 1 & 5.000000 & 4 & 3 & 6 & 1 & 1 & 10 & 4 & ⋯ & 0.43 & 0.03 & 0.05 & 11.6 & 0.02 & 0.07 & 0.22 & 0.16 & 0.27 & 0.05\\\\\n",
       "\t 35 & 1 & 3.000000 & 6 & 2 & 5 & 1 & 1 & 10 & 4 & ⋯ & 0.43 & 0.03 & 0.05 & 11.6 & 0.02 & 0.07 & 0.22 & 0.16 & 0.27 & 0.05\\\\\n",
       "\t 35 & 1 & 3.000000 & 6 & 2 & 5 & 1 & 1 & 10 & 4 & ⋯ & 0.43 & 0.03 & 0.05 & 11.6 & 0.02 & 0.07 & 0.22 & 0.16 & 0.27 & 0.05\\\\\n",
       "\t 39 & 1 & 1.163636 & 5 & 4 & 6 & 1 & 1 &  8 & 4 & ⋯ & 0.43 & 0.03 & 0.05 & 11.6 & 0.02 & 0.07 & 0.22 & 0.16 & 0.27 & 0.05\\\\\n",
       "\\end{tabular}\n"
      ],
      "text/markdown": [
       "\n",
       "A tibble: 6 × 57\n",
       "\n",
       "| bldg &lt;dbl&gt; | y &lt;dbl&gt; | defects &lt;dbl&gt; | poor &lt;dbl&gt; | race.x &lt;dbl&gt; | floor &lt;dbl&gt; | dist &lt;dbl&gt; | borough &lt;dbl&gt; | numunits &lt;dbl&gt; | stories &lt;dbl&gt; | ⋯ ⋯ | struct_Mean &lt;dbl&gt; | dilap_Mean &lt;dbl&gt; | ownhous_Mean &lt;dbl&gt; | duration_Mean &lt;dbl&gt; | extwin4_2_Mean &lt;dbl&gt; | extflr5_2_Mean &lt;dbl&gt; | intcrack2_Mean &lt;dbl&gt; | inthole2_Mean &lt;dbl&gt; | intleak2_Mean &lt;dbl&gt; | vacrate &lt;dbl&gt; |\n",
       "|---|---|---|---|---|---|---|---|---|---|---|---|---|---|---|---|---|---|---|---|---|\n",
       "| 33 | 1 | 5.000000 | 5 | 3 | 5 | 1 | 1 | 10 | 4 | ⋯ | 0.43 | 0.03 | 0.05 | 11.6 | 0.02 | 0.07 | 0.22 | 0.16 | 0.27 | 0.05 |\n",
       "| 35 | 1 | 5.000000 | 4 | 3 | 6 | 1 | 1 | 10 | 4 | ⋯ | 0.43 | 0.03 | 0.05 | 11.6 | 0.02 | 0.07 | 0.22 | 0.16 | 0.27 | 0.05 |\n",
       "| 35 | 1 | 5.000000 | 4 | 3 | 6 | 1 | 1 | 10 | 4 | ⋯ | 0.43 | 0.03 | 0.05 | 11.6 | 0.02 | 0.07 | 0.22 | 0.16 | 0.27 | 0.05 |\n",
       "| 35 | 1 | 3.000000 | 6 | 2 | 5 | 1 | 1 | 10 | 4 | ⋯ | 0.43 | 0.03 | 0.05 | 11.6 | 0.02 | 0.07 | 0.22 | 0.16 | 0.27 | 0.05 |\n",
       "| 35 | 1 | 3.000000 | 6 | 2 | 5 | 1 | 1 | 10 | 4 | ⋯ | 0.43 | 0.03 | 0.05 | 11.6 | 0.02 | 0.07 | 0.22 | 0.16 | 0.27 | 0.05 |\n",
       "| 39 | 1 | 1.163636 | 5 | 4 | 6 | 1 | 1 |  8 | 4 | ⋯ | 0.43 | 0.03 | 0.05 | 11.6 | 0.02 | 0.07 | 0.22 | 0.16 | 0.27 | 0.05 |\n",
       "\n"
      ],
      "text/plain": [
       "  bldg y defects  poor race.x floor dist borough numunits stories ⋯ struct_Mean\n",
       "1 33   1 5.000000 5    3      5     1    1       10       4       ⋯ 0.43       \n",
       "2 35   1 5.000000 4    3      6     1    1       10       4       ⋯ 0.43       \n",
       "3 35   1 5.000000 4    3      6     1    1       10       4       ⋯ 0.43       \n",
       "4 35   1 3.000000 6    2      5     1    1       10       4       ⋯ 0.43       \n",
       "5 35   1 3.000000 6    2      5     1    1       10       4       ⋯ 0.43       \n",
       "6 39   1 1.163636 5    4      6     1    1        8       4       ⋯ 0.43       \n",
       "  dilap_Mean ownhous_Mean duration_Mean extwin4_2_Mean extflr5_2_Mean\n",
       "1 0.03       0.05         11.6          0.02           0.07          \n",
       "2 0.03       0.05         11.6          0.02           0.07          \n",
       "3 0.03       0.05         11.6          0.02           0.07          \n",
       "4 0.03       0.05         11.6          0.02           0.07          \n",
       "5 0.03       0.05         11.6          0.02           0.07          \n",
       "6 0.03       0.05         11.6          0.02           0.07          \n",
       "  intcrack2_Mean inthole2_Mean intleak2_Mean vacrate\n",
       "1 0.22           0.16          0.27          0.05   \n",
       "2 0.22           0.16          0.27          0.05   \n",
       "3 0.22           0.16          0.27          0.05   \n",
       "4 0.22           0.16          0.27          0.05   \n",
       "5 0.22           0.16          0.27          0.05   \n",
       "6 0.22           0.16          0.27          0.05   "
      ]
     },
     "metadata": {},
     "output_type": "display_data"
    }
   ],
   "source": [
    "head(data)"
   ]
  },
  {
   "cell_type": "code",
   "execution_count": 5,
   "metadata": {
    "vscode": {
     "languageId": "r"
    }
   },
   "outputs": [
    {
     "data": {
      "text/plain": [
       "      bldg            y             defects            poor      \n",
       " Min.   :  33   Min.   :0.0000   Min.   :0.0000   Min.   :1.000  \n",
       " 1st Qu.:2286   1st Qu.:0.0000   1st Qu.:0.0000   1st Qu.:2.000  \n",
       " Median :4789   Median :0.0000   Median :0.0000   Median :3.000  \n",
       " Mean   :4612   Mean   :0.2287   Mean   :0.9973   Mean   :3.061  \n",
       " 3rd Qu.:6872   3rd Qu.:0.0000   3rd Qu.:1.1412   3rd Qu.:4.000  \n",
       " Max.   :9033   Max.   :1.0000   Max.   :9.0000   Max.   :8.000  \n",
       "                NA's   :527                                      \n",
       "                        race.x         floor            dist     \n",
       " White (non-hispanic)      :1961   Min.   :1.000   Min.   : 1.0  \n",
       " Black (non-hispanic)      : 938   1st Qu.:2.000   1st Qu.:16.0  \n",
       " Puerto Rican              : 404   Median :4.000   Median :32.0  \n",
       " Other Hispanic            : 572   Mean   :4.187   Mean   :29.6  \n",
       " Asian/Pacific Islander    : 283   3rd Qu.:6.000   3rd Qu.:42.0  \n",
       " Amer-Indian/Native Alaskan:  18   Max.   :9.000   Max.   :55.0  \n",
       " Two or more races         :  33                                 \n",
       "          borough        numunits         stories          race.y    \n",
       " Bronx        : 700   Min.   : 1.000   Min.   :1.000   Min.   :1.00  \n",
       " Brooklyn     :1047   1st Qu.: 5.000   1st Qu.:2.000   1st Qu.:1.00  \n",
       " Manhattan    :1159   Median :10.000   Median :4.000   Median :2.00  \n",
       " Queens       :1050   Mean   : 8.234   Mean   :3.764   Mean   :2.16  \n",
       " Staten Island: 253   3rd Qu.:11.000   3rd Qu.:5.000   3rd Qu.:3.00  \n",
       "                      Max.   :12.000   Max.   :7.000   Max.   :7.00  \n",
       "                                                                     \n",
       "    personrm         housewgt        sequenceno         under6     \n",
       " Min.   :0.1100   Min.   : 14.38   Min.   :   401   Min.   :1.000  \n",
       " 1st Qu.:0.3300   1st Qu.:174.55   1st Qu.:271724   1st Qu.:1.000  \n",
       " Median :0.5700   Median :194.27   Median :499313   Median :1.000  \n",
       " Mean   :0.6666   Mean   :192.02   Mean   :506116   Mean   :1.176  \n",
       " 3rd Qu.:1.0000   3rd Qu.:210.64   3rd Qu.:755755   3rd Qu.:1.000  \n",
       " Max.   :4.0000   Max.   :317.95   Max.   :998787   Max.   :4.000  \n",
       "                                                                   \n",
       "       cd          unitflr2         regext         totincom2     \n",
       " Min.   : 1.0   Min.   :1.000   Min.   :0.0000   Min.   :     0  \n",
       " 1st Qu.:16.0   1st Qu.:2.000   1st Qu.:0.0000   1st Qu.: 15730  \n",
       " Median :32.0   Median :4.000   Median :0.0000   Median : 37000  \n",
       " Mean   :29.6   Mean   :4.191   Mean   :0.4803   Mean   : 57047  \n",
       " 3rd Qu.:42.0   3rd Qu.:6.000   3rd Qu.:1.0000   3rd Qu.: 70000  \n",
       " Max.   :55.0   Max.   :9.000   Max.   :1.0000   Max.   :840662  \n",
       "                NA's   :30      NA's   :934                      \n",
       "    subsidy                             housing        poverty      \n",
       " Min.   :0.0000   public                    : 192   Min.   :0.0000  \n",
       " 1st Qu.:0.0000   rent controlled/stabilized:1787   1st Qu.:0.0000  \n",
       " Median :0.0000   owned                     :1230   Median :0.0000  \n",
       " Mean   :0.1443   other rentals             :1000   Mean   :0.2048  \n",
       " 3rd Qu.:0.0000                                     3rd Qu.:0.0000  \n",
       " Max.   :1.0000                                     Max.   :1.0000  \n",
       " NA's   :1694                                                       \n",
       "   povertyx2        extwin4_2         extflr5_2         intcrack2     \n",
       " Min.   :0.0000   Min.   :0.00000   Min.   :0.00000   Min.   :0.0000  \n",
       " 1st Qu.:0.0000   1st Qu.:0.00000   1st Qu.:0.00000   1st Qu.:0.0000  \n",
       " Median :0.0000   Median :0.00000   Median :0.00000   Median :0.0000  \n",
       " Mean   :0.3908   Mean   :0.01616   Mean   :0.02882   Mean   :0.1364  \n",
       " 3rd Qu.:1.0000   3rd Qu.:0.00000   3rd Qu.:0.00000   3rd Qu.:0.0000  \n",
       " Max.   :1.0000   Max.   :1.00000   Max.   :1.00000   Max.   :1.0000  \n",
       "                  NA's   :2         NA's   :150       NA's   :528     \n",
       "    inthole2       intpeel_cat        intleak2         duration    \n",
       " Min.   :0.0000   Min.   :0.0000   Min.   :0.0000   Min.   : 0.00  \n",
       " 1st Qu.:0.0000   1st Qu.:0.0000   1st Qu.:0.0000   1st Qu.: 3.00  \n",
       " Median :0.0000   Median :0.0000   Median :0.0000   Median : 8.00  \n",
       " Mean   :0.0699   Mean   :0.2726   Mean   :0.1994   Mean   :12.82  \n",
       " 3rd Qu.:0.0000   3rd Qu.:0.0000   3rd Qu.:0.0000   3rd Qu.:20.00  \n",
       " Max.   :1.0000   Max.   :2.0000   Max.   :1.0000   Max.   :78.00  \n",
       " NA's   :676      NA's   :562      NA's   :528                     \n",
       "     board2           struct            old              help       \n",
       " Min.   :0.0000   Min.   :0.0000   Min.   :0.0000   Min.   :0.0000  \n",
       " 1st Qu.:0.0000   1st Qu.:1.0000   1st Qu.:0.0000   1st Qu.:1.0000  \n",
       " Median :0.0000   Median :1.0000   Median :1.0000   Median :1.0000  \n",
       " Mean   :0.1209   Mean   :0.7715   Mean   :0.5899   Mean   :0.8223  \n",
       " 3rd Qu.:0.0000   3rd Qu.:1.0000   3rd Qu.:1.0000   3rd Qu.:1.0000  \n",
       " Max.   :1.0000   Max.   :1.0000   Max.   :1.0000   Max.   :1.0000  \n",
       " NA's   :23       NA's   :538                       NA's   :703     \n",
       "    rodent2          foreign           dilap         black_Mean    \n",
       " Min.   :0.0000   Min.   :0.0000   Min.   :0.000   Min.   :0.0000  \n",
       " 1st Qu.:0.0000   1st Qu.:0.0000   1st Qu.:0.000   1st Qu.:0.0400  \n",
       " Median :0.0000   Median :0.0000   Median :0.000   Median :0.1400  \n",
       " Mean   :0.2287   Mean   :0.4729   Mean   :0.032   Mean   :0.2354  \n",
       " 3rd Qu.:0.0000   3rd Qu.:1.0000   3rd Qu.:0.000   3rd Qu.:0.3700  \n",
       " Max.   :1.0000   Max.   :1.0000   Max.   :1.000   Max.   :0.9300  \n",
       " NA's   :527      NA's   :517      NA's   :21                      \n",
       "  board2_Mean      foreign_Mean      help_Mean      hispanic_Mean   \n",
       " Min.   :0.0200   Min.   :0.1900   Min.   :0.5200   Min.   :0.0400  \n",
       " 1st Qu.:0.0500   1st Qu.:0.3100   1st Qu.:0.7600   1st Qu.:0.1000  \n",
       " Median :0.0900   Median :0.5000   Median :0.8400   Median :0.1400  \n",
       " Mean   :0.1375   Mean   :0.4717   Mean   :0.8129   Mean   :0.2289  \n",
       " 3rd Qu.:0.1800   3rd Qu.:0.6000   3rd Qu.:0.8900   3rd Qu.:0.3100  \n",
       " Max.   :0.6600   Max.   :0.7700   Max.   :0.9400   Max.   :0.7400  \n",
       "                                                                    \n",
       "    old_Mean       poverty_Mean    povertyx2_Mean   pubhous_Mean    \n",
       " Min.   :0.1000   Min.   :0.0600   Min.   :0.130   Min.   :0.00000  \n",
       " 1st Qu.:0.4600   1st Qu.:0.1200   1st Qu.:0.260   1st Qu.:0.00000  \n",
       " Median :0.6200   Median :0.1500   Median :0.340   Median :0.03000  \n",
       " Mean   :0.6152   Mean   :0.1941   Mean   :0.375   Mean   :0.05025  \n",
       " 3rd Qu.:0.7800   3rd Qu.:0.2700   3rd Qu.:0.500   3rd Qu.:0.07000  \n",
       " Max.   :0.9600   Max.   :0.4800   Max.   :0.780   Max.   :0.39000  \n",
       "                                                                    \n",
       "  regext_Mean      struct_Mean       dilap_Mean       ownhous_Mean   \n",
       " Min.   :0.1200   Min.   :0.3300   Min.   :0.00000   Min.   :0.0200  \n",
       " 1st Qu.:0.3100   1st Qu.:0.5900   1st Qu.:0.02000   1st Qu.:0.1800  \n",
       " Median :0.4400   Median :0.8100   Median :0.03000   Median :0.2900  \n",
       " Mean   :0.4621   Mean   :0.7578   Mean   :0.04318   Mean   :0.3227  \n",
       " 3rd Qu.:0.6300   3rd Qu.:0.8900   3rd Qu.:0.06000   3rd Qu.:0.4200  \n",
       " Max.   :0.7900   Max.   :0.9700   Max.   :0.17000   Max.   :0.7500  \n",
       "                                                                     \n",
       " duration_Mean   extwin4_2_Mean   extflr5_2_Mean    intcrack2_Mean  \n",
       " Min.   : 8.15   Min.   :0.0000   Min.   :0.00000   Min.   :0.0200  \n",
       " 1st Qu.:11.24   1st Qu.:0.0100   1st Qu.:0.01000   1st Qu.:0.0500  \n",
       " Median :12.71   Median :0.0200   Median :0.03000   Median :0.1000  \n",
       " Mean   :12.46   Mean   :0.0245   Mean   :0.03931   Mean   :0.1233  \n",
       " 3rd Qu.:13.59   3rd Qu.:0.0400   3rd Qu.:0.05000   3rd Qu.:0.1900  \n",
       " Max.   :16.54   Max.   :0.1100   Max.   :0.14000   Max.   :0.3300  \n",
       "                                                                    \n",
       " inthole2_Mean     intleak2_Mean       vacrate       \n",
       " Min.   :0.00000   Min.   :0.0200   Min.   :0.02000  \n",
       " 1st Qu.:0.02000   1st Qu.:0.1100   1st Qu.:0.04000  \n",
       " Median :0.05000   Median :0.1700   Median :0.06000  \n",
       " Mean   :0.06067   Mean   :0.1799   Mean   :0.06262  \n",
       " 3rd Qu.:0.09000   3rd Qu.:0.2300   3rd Qu.:0.08000  \n",
       " Max.   :0.18000   Max.   :0.4500   Max.   :0.16000  \n",
       "                                                     "
      ]
     },
     "metadata": {},
     "output_type": "display_data"
    }
   ],
   "source": [
    "data$race.x <- factor(data$race.x, labels=c(\"White (non-hispanic)\", \"Black (non-hispanic)\", \"Puerto Rican\", \"Other Hispanic\", \"Asian/Pacific Islander\", \"Amer-Indian/Native Alaskan\", \"Two or more races\"))\n",
    "data$borough <- factor(data$borough, labels=c(\"Bronx\", \"Brooklyn\", \"Manhattan\", \"Queens\", \"Staten Island\"))\n",
    "data$housing <- factor(data$housing, labels=c(\"public\", \"rent controlled/stabilized\", \"owned\", \"other rentals\"))\n",
    "\n",
    "summary(data)"
   ]
  },
  {
   "cell_type": "code",
   "execution_count": 6,
   "metadata": {
    "vscode": {
     "languageId": "r"
    }
   },
   "outputs": [
    {
     "name": "stdout",
     "output_type": "stream",
     "text": [
      "glm(formula = rodent2 ~ race.x + hispanic_Mean10 + black_Mean10, \n",
      "    family = binomial(link = \"logit\"), data = data)\n",
      "                                 coef.est coef.se\n",
      "(Intercept)                      -2.68     0.10  \n",
      "race.xBlack (non-hispanic)        0.75     0.14  \n",
      "race.xPuerto Rican                0.72     0.15  \n",
      "race.xOther Hispanic              1.02     0.14  \n",
      "race.xAsian/Pacific Islander     -0.04     0.21  \n",
      "race.xAmer-Indian/Native Alaskan  0.75     0.51  \n",
      "race.xTwo or more races           0.40     0.50  \n",
      "hispanic_Mean10                   0.25     0.02  \n",
      "black_Mean10                      0.12     0.02  \n",
      "---\n",
      "  n = 3682, k = 9\n",
      "  residual deviance = 3490.7, null deviance = 3959.4 (difference = 468.7)\n"
     ]
    }
   ],
   "source": [
    "data$hispanic_Mean10 <- data$hispanic_Mean * 10\n",
    "data$black_Mean10 <- data$black_Mean * 10\n",
    "\n",
    "test_m1 <- glm(rodent2 ~ race.x + hispanic_Mean10 + black_Mean10, data=data, family=binomial(link=\"logit\"))\n",
    "display(test_m1)"
   ]
  },
  {
   "cell_type": "code",
   "execution_count": 7,
   "metadata": {
    "vscode": {
     "languageId": "r"
    }
   },
   "outputs": [
    {
     "name": "stdout",
     "output_type": "stream",
     "text": [
      "glm(formula = rodent2 ~ race.x + hispanic_Mean10 + black_Mean10 + \n",
      "    borough + old + housing + personrm + struct + foreign, family = binomial(link = \"logit\"), \n",
      "    data = data)\n",
      "                                  coef.est coef.se\n",
      "(Intercept)                       -2.32     0.29  \n",
      "race.xBlack (non-hispanic)         0.55     0.15  \n",
      "race.xPuerto Rican                 0.54     0.17  \n",
      "race.xOther Hispanic               0.66     0.15  \n",
      "race.xAsian/Pacific Islander      -0.20     0.22  \n",
      "race.xAmer-Indian/Native Alaskan   0.38     0.57  \n",
      "race.xTwo or more races            0.47     0.52  \n",
      "hispanic_Mean10                    0.15     0.03  \n",
      "black_Mean10                       0.06     0.02  \n",
      "boroughBrooklyn                    0.24     0.15  \n",
      "boroughManhattan                   0.04     0.14  \n",
      "boroughQueens                     -0.34     0.16  \n",
      "boroughStaten Island              -0.56     0.35  \n",
      "old                                0.11     0.10  \n",
      "housingrent controlled/stabilized  0.71     0.20  \n",
      "housingowned                       0.19     0.23  \n",
      "housingother rentals               0.61     0.21  \n",
      "personrm                           0.66     0.11  \n",
      "struct                            -1.22     0.10  \n",
      "foreign                            0.01     0.10  \n",
      "---\n",
      "  n = 3639, k = 20\n",
      "  residual deviance = 3179.7, null deviance = 3929.8 (difference = 750.1)\n"
     ]
    }
   ],
   "source": [
    "# fit model\n",
    "test_m2 <- glm(rodent2 ~ race.x + hispanic_Mean10 + black_Mean10 + borough + old + housing + personrm + struct + foreign, data=data, family=binomial(link=\"logit\"))\n",
    "display(test_m2)"
   ]
  },
  {
   "cell_type": "code",
   "execution_count": 8,
   "metadata": {
    "vscode": {
     "languageId": "r"
    }
   },
   "outputs": [
    {
     "name": "stderr",
     "output_type": "stream",
     "text": [
      "Warning message:\n",
      "\"glm.fit: algoritmo não convergiu\"\n"
     ]
    }
   ],
   "source": [
    "quebrado <- split(data, data$dist)\n",
    "\n",
    "ajuda_modelo <- function(data){\n",
    "    glm(rodent2~ poverty, data=data, family=\"binomial\")\n",
    "}\n",
    "\n",
    "#fits <- lapply(quebrado, ajuda_modelo)\n",
    "fits <- mclapply(quebrado, ajuda_modelo)"
   ]
  },
  {
   "cell_type": "code",
   "execution_count": 9,
   "metadata": {
    "vscode": {
     "languageId": "r"
    }
   },
   "outputs": [
    {
     "name": "stderr",
     "output_type": "stream",
     "text": [
      "Warning message:\n",
      "\"glm.fit: algoritmo não convergiu\"\n"
     ]
    }
   ],
   "source": [
    "coeficientes <- lapply(quebrado, ajuda_modelo)"
   ]
  },
  {
   "cell_type": "code",
   "execution_count": 11,
   "metadata": {
    "vscode": {
     "languageId": "r"
    }
   },
   "outputs": [
    {
     "name": "stderr",
     "output_type": "stream",
     "text": [
      "Warning message in checkConv(attr(opt, \"derivs\"), opt$par, ctrl = control$checkConv, :\n",
      "\"Model failed to converge with max|grad| = 0.00557577 (tol = 0.002, component 1)\"\n"
     ]
    },
    {
     "data": {
      "text/plain": [
       "$dist\n"
      ]
     },
     "metadata": {},
     "output_type": "display_data"
    },
    {
     "data": {
      "image/png": "[encoded data removed]",
      "text/plain": [
       "plot without title"
      ]
     },
     "metadata": {
      "image/png": {
       "height": 600,
       "width": 900
      }
     },
     "output_type": "display_data"
    }
   ],
   "source": [
    "options(repr.plot.width = 15, repr.plot.height = 10)\n",
    "M1 <- glmer(rodent2 ~ race.x + borough + old + housing + poverty + struct + foreign + (1|dist), data=data, family=binomial(link=\"logit\"))\n",
    "dotplot(ranef(M1))"
   ]
  },
  {
   "cell_type": "code",
   "execution_count": null,
   "metadata": {
    "vscode": {
     "languageId": "r"
    }
   },
   "outputs": [],
   "source": []
  }
 ],
 "metadata": {
  "kernelspec": {
   "display_name": "R",
   "language": "R",
   "name": "ir"
  },
  "language_info": {
   "codemirror_mode": "r",
   "file_extension": ".r",
   "mimetype": "text/x-r-source",
   "name": "R",
   "pygments_lexer": "r",
   "version": "4.2.3"
  },
  "orig_nbformat": 4
 },
 "nbformat": 4,
 "nbformat_minor": 2
}
