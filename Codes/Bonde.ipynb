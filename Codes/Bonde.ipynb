{
 "cells": [
  {
   "cell_type": "markdown",
   "metadata": {},
   "source": [
    "## Problema"
   ]
  },
  {
   "attachments": {},
   "cell_type": "markdown",
   "metadata": {},
   "source": [
    "Neste exercício vamos analisar dados de experimentos psicológicos sobre o problema do bondinho (Trolley problem), um dilema moral interessante na investigação do Utilitarismo.\n",
    "\n",
    "Os dados que vamos usar estão em bondinho.csv e são apresentados e discutidos no capítulo 11 de Statistical Rethinking (SR).\n",
    "\n",
    "Perguntas\n",
    "Como você modelaria a relação entre a variável response e as outras covariáveis medidas no experimento? Que tipos de visualizações podem ser úteis antes de pôr a mão na massa?"
   ]
  },
  {
   "attachments": {},
   "cell_type": "markdown",
   "metadata": {},
   "source": [
    "Dados:\n",
    "\n",
    "<li> response: morally permissible the participant found the action to be taken (or not) in the story"
   ]
  },
  {
   "cell_type": "code",
   "execution_count": 65,
   "metadata": {
    "vscode": {
     "languageId": "r"
    }
   },
   "outputs": [
    {
     "name": "stderr",
     "output_type": "stream",
     "text": [
      "\u001b[1mRows: \u001b[22m\u001b[34m9930\u001b[39m \u001b[1mColumns: \u001b[22m\u001b[34m12\u001b[39m\n",
      "\u001b[36m──\u001b[39m \u001b[1mColumn specification\u001b[22m \u001b[36m────────────────────────────────────────────────────────\u001b[39m\n",
      "\u001b[1mDelimiter:\u001b[22m \",\"\n",
      "\u001b[31mchr\u001b[39m (4): case, id, edu, story\n",
      "\u001b[32mdbl\u001b[39m (8): response, order, age, male, action, intention, contact, action2\n",
      "\n",
      "\u001b[36mℹ\u001b[39m Use `spec()` to retrieve the full column specification for this data.\n",
      "\u001b[36mℹ\u001b[39m Specify the column types or set `show_col_types = FALSE` to quiet this message.\n"
     ]
    }
   ],
   "source": [
    "library(tidyverse)\n",
    "library(GGally)  # ggpairs\n",
    "library(MuMIn)  # AICc (Akaike Information Criterion corrected for small sample size)\n",
    "library(readr)\n",
    "library(ggplot2)\n",
    "library(gridExtra)\n",
    "library(rstanarm)\n",
    "library(arm)\n",
    "library(lattice)\n",
    "library(lme4)\n",
    "source(\"functions.r\")\n",
    "\n",
    "urlfile = \"https://raw.githubusercontent.com/maxbiostat/stats_modelling/master/data/bondinho.csv\"\n",
    "data <- read_csv(url(urlfile))"
   ]
  },
  {
   "cell_type": "code",
   "execution_count": 3,
   "metadata": {
    "vscode": {
     "languageId": "r"
    }
   },
   "outputs": [
    {
     "data": {
      "text/html": [
       "<table class=\"dataframe\">\n",
       "<caption>A tibble: 6 × 12</caption>\n",
       "<thead>\n",
       "\t<tr><th scope=col>case</th><th scope=col>response</th><th scope=col>order</th><th scope=col>id</th><th scope=col>age</th><th scope=col>male</th><th scope=col>edu</th><th scope=col>action</th><th scope=col>intention</th><th scope=col>contact</th><th scope=col>story</th><th scope=col>action2</th></tr>\n",
       "\t<tr><th scope=col>&lt;chr&gt;</th><th scope=col>&lt;dbl&gt;</th><th scope=col>&lt;dbl&gt;</th><th scope=col>&lt;chr&gt;</th><th scope=col>&lt;dbl&gt;</th><th scope=col>&lt;dbl&gt;</th><th scope=col>&lt;chr&gt;</th><th scope=col>&lt;dbl&gt;</th><th scope=col>&lt;dbl&gt;</th><th scope=col>&lt;dbl&gt;</th><th scope=col>&lt;chr&gt;</th><th scope=col>&lt;dbl&gt;</th></tr>\n",
       "</thead>\n",
       "<tbody>\n",
       "\t<tr><td>cfaqu</td><td>4</td><td> 2</td><td>96;434</td><td>14</td><td>0</td><td>Middle School</td><td>0</td><td>0</td><td>1</td><td>aqu</td><td>1</td></tr>\n",
       "\t<tr><td>cfbur</td><td>3</td><td>31</td><td>96;434</td><td>14</td><td>0</td><td>Middle School</td><td>0</td><td>0</td><td>1</td><td>bur</td><td>1</td></tr>\n",
       "\t<tr><td>cfrub</td><td>4</td><td>16</td><td>96;434</td><td>14</td><td>0</td><td>Middle School</td><td>0</td><td>0</td><td>1</td><td>rub</td><td>1</td></tr>\n",
       "\t<tr><td>cibox</td><td>3</td><td>32</td><td>96;434</td><td>14</td><td>0</td><td>Middle School</td><td>0</td><td>1</td><td>1</td><td>box</td><td>1</td></tr>\n",
       "\t<tr><td>cibur</td><td>3</td><td> 4</td><td>96;434</td><td>14</td><td>0</td><td>Middle School</td><td>0</td><td>1</td><td>1</td><td>bur</td><td>1</td></tr>\n",
       "\t<tr><td>cispe</td><td>3</td><td> 9</td><td>96;434</td><td>14</td><td>0</td><td>Middle School</td><td>0</td><td>1</td><td>1</td><td>spe</td><td>1</td></tr>\n",
       "</tbody>\n",
       "</table>\n"
      ],
      "text/latex": [
       "A tibble: 6 × 12\n",
       "\\begin{tabular}{llllllllllll}\n",
       " case & response & order & id & age & male & edu & action & intention & contact & story & action2\\\\\n",
       " <chr> & <dbl> & <dbl> & <chr> & <dbl> & <dbl> & <chr> & <dbl> & <dbl> & <dbl> & <chr> & <dbl>\\\\\n",
       "\\hline\n",
       "\t cfaqu & 4 &  2 & 96;434 & 14 & 0 & Middle School & 0 & 0 & 1 & aqu & 1\\\\\n",
       "\t cfbur & 3 & 31 & 96;434 & 14 & 0 & Middle School & 0 & 0 & 1 & bur & 1\\\\\n",
       "\t cfrub & 4 & 16 & 96;434 & 14 & 0 & Middle School & 0 & 0 & 1 & rub & 1\\\\\n",
       "\t cibox & 3 & 32 & 96;434 & 14 & 0 & Middle School & 0 & 1 & 1 & box & 1\\\\\n",
       "\t cibur & 3 &  4 & 96;434 & 14 & 0 & Middle School & 0 & 1 & 1 & bur & 1\\\\\n",
       "\t cispe & 3 &  9 & 96;434 & 14 & 0 & Middle School & 0 & 1 & 1 & spe & 1\\\\\n",
       "\\end{tabular}\n"
      ],
      "text/markdown": [
       "\n",
       "A tibble: 6 × 12\n",
       "\n",
       "| case &lt;chr&gt; | response &lt;dbl&gt; | order &lt;dbl&gt; | id &lt;chr&gt; | age &lt;dbl&gt; | male &lt;dbl&gt; | edu &lt;chr&gt; | action &lt;dbl&gt; | intention &lt;dbl&gt; | contact &lt;dbl&gt; | story &lt;chr&gt; | action2 &lt;dbl&gt; |\n",
       "|---|---|---|---|---|---|---|---|---|---|---|---|\n",
       "| cfaqu | 4 |  2 | 96;434 | 14 | 0 | Middle School | 0 | 0 | 1 | aqu | 1 |\n",
       "| cfbur | 3 | 31 | 96;434 | 14 | 0 | Middle School | 0 | 0 | 1 | bur | 1 |\n",
       "| cfrub | 4 | 16 | 96;434 | 14 | 0 | Middle School | 0 | 0 | 1 | rub | 1 |\n",
       "| cibox | 3 | 32 | 96;434 | 14 | 0 | Middle School | 0 | 1 | 1 | box | 1 |\n",
       "| cibur | 3 |  4 | 96;434 | 14 | 0 | Middle School | 0 | 1 | 1 | bur | 1 |\n",
       "| cispe | 3 |  9 | 96;434 | 14 | 0 | Middle School | 0 | 1 | 1 | spe | 1 |\n",
       "\n"
      ],
      "text/plain": [
       "  case  response order id     age male edu           action intention contact\n",
       "1 cfaqu 4         2    96;434 14  0    Middle School 0      0         1      \n",
       "2 cfbur 3        31    96;434 14  0    Middle School 0      0         1      \n",
       "3 cfrub 4        16    96;434 14  0    Middle School 0      0         1      \n",
       "4 cibox 3        32    96;434 14  0    Middle School 0      1         1      \n",
       "5 cibur 3         4    96;434 14  0    Middle School 0      1         1      \n",
       "6 cispe 3         9    96;434 14  0    Middle School 0      1         1      \n",
       "  story action2\n",
       "1 aqu   1      \n",
       "2 bur   1      \n",
       "3 rub   1      \n",
       "4 box   1      \n",
       "5 bur   1      \n",
       "6 spe   1      "
      ]
     },
     "metadata": {},
     "output_type": "display_data"
    }
   ],
   "source": [
    "head(data)"
   ]
  },
  {
   "cell_type": "code",
   "execution_count": 4,
   "metadata": {
    "vscode": {
     "languageId": "r"
    }
   },
   "outputs": [
    {
     "data": {
      "text/plain": [
       "     case              response         order           id           \n",
       " Length:9930        Min.   :1.000   Min.   : 1.0   Length:9930       \n",
       " Class :character   1st Qu.:3.000   1st Qu.: 9.0   Class :character  \n",
       " Mode  :character   Median :4.000   Median :16.5   Mode  :character  \n",
       "                    Mean   :4.199   Mean   :16.5                     \n",
       "                    3rd Qu.:6.000   3rd Qu.:24.0                     \n",
       "                    Max.   :7.000   Max.   :32.0                     \n",
       "      age             male           edu                action      \n",
       " Min.   :10.00   Min.   :0.000   Length:9930        Min.   :0.0000  \n",
       " 1st Qu.:26.00   1st Qu.:0.000   Class :character   1st Qu.:0.0000  \n",
       " Median :36.00   Median :1.000   Mode  :character   Median :0.0000  \n",
       " Mean   :37.49   Mean   :0.574                      Mean   :0.4333  \n",
       " 3rd Qu.:48.00   3rd Qu.:1.000                      3rd Qu.:1.0000  \n",
       " Max.   :72.00   Max.   :1.000                      Max.   :1.0000  \n",
       "   intention         contact       story              action2      \n",
       " Min.   :0.0000   Min.   :0.0   Length:9930        Min.   :0.0000  \n",
       " 1st Qu.:0.0000   1st Qu.:0.0   Class :character   1st Qu.:0.0000  \n",
       " Median :0.0000   Median :0.0   Mode  :character   Median :1.0000  \n",
       " Mean   :0.4667   Mean   :0.2                      Mean   :0.6333  \n",
       " 3rd Qu.:1.0000   3rd Qu.:0.0                      3rd Qu.:1.0000  \n",
       " Max.   :1.0000   Max.   :1.0                      Max.   :1.0000  "
      ]
     },
     "metadata": {},
     "output_type": "display_data"
    }
   ],
   "source": [
    "summary(data)"
   ]
  },
  {
   "cell_type": "code",
   "execution_count": 69,
   "metadata": {
    "vscode": {
     "languageId": "r"
    }
   },
   "outputs": [
    {
     "data": {
      "image/png": "[encoded data removed]",
      "text/plain": [
       "plot without title"
      ]
     },
     "metadata": {
      "image/png": {
       "height": 360,
       "width": 1080
      }
     },
     "output_type": "display_data"
    }
   ],
   "source": [
    "options(repr.plot.width = 18, repr.plot.height = 6)\n",
    "\n",
    "histogram <- ggplot(data=data, aes(x=response)) + \n",
    "  geom_bar() +\n",
    "  labs(x=\"Response\", y=\"Count\") +\n",
    "  theme_bw() \n",
    "\n",
    "# Calculate the discrete proportion of each response value\n",
    "pr_k <- table(data$response) / nrow(data)\n",
    "\n",
    "# Calculate the cumulative proportions\n",
    "cum_pr_k <- cumsum(pr_k)\n",
    "\n",
    "# Create a data frame with x and y values\n",
    "df <- data.frame(response = 1:7, cumulative_proportion = cum_pr_k)\n",
    "\n",
    "# Create the cumulative proportion plot using ggplot\n",
    "cumulative_proportion <- ggplot(df, aes(x = response, y = cumulative_proportion)) +\n",
    "  geom_line() +\n",
    "  geom_point() +\n",
    "  labs(x = \"response\", y = \"cumulative proportion\") +\n",
    "  theme_bw() +\n",
    "  ylim(0, 1)\n",
    "\n",
    "\n",
    "\n",
    "# Calculate the cumulative odds\n",
    "cumulative_odds <- cumsum(pr_k) / (1 - cumsum(pr_k))\n",
    "\n",
    "# Create a data frame with x and y values\n",
    "df <- data.frame(response = 1:7, cumulative_odds = log(cumulative_odds))\n",
    "\n",
    "# Create the log cumulative odds graph using ggplot\n",
    "log_cumulative_odds <- ggplot(df, aes(x = response, y = cumulative_odds)) +\n",
    "  geom_line() +\n",
    "  geom_point() +\n",
    "  theme_bw() +\n",
    "  labs(x = \"response\", y = \"log cumulative odds\")\n",
    "\n",
    "grid.arrange(histogram, cumulative_proportion, log_cumulative_odds, nrow=1)\n"
   ]
  },
  {
   "attachments": {},
   "cell_type": "markdown",
   "metadata": {},
   "source": [
    "\\begin{aligned}\n",
    "& y_i \\sim \\operatorname{CAT}\\left(e_i\\right) \\\\\n",
    "& P_k =P_r\\left(Y=y_k\\right) \\\\\n",
    "& p_i \\in \\mathbb{P} \\subseteq \\\\\n",
    "& =\\operatorname{Pr}\\left(Y \\leq y_k\\right)-\\operatorname{Pr}\\left(Y \\leq y_{k-1}\\right) \\\\\n",
    "& \\operatorname{logit}\\left(p_k\\right)=\\alpha_k \\Rightarrow \\log _{T^{-1}}\\left(\\alpha_k\\right)=p_k \\\\\n",
    "& \\alpha_{* \\sim P_A(\\cdot)}=\\operatorname{Normal}(0,10) \\\\\n",
    "&\n",
    "\\end{aligned}\n",
    "\n",
    "\\begin{aligned}\n",
    "& \\operatorname{logit} \\left(P_k\\right)=\\log \\left(\\frac{P_k}{1-P_k}\\right) \\\\\n",
    "& =\\log \\left(\\frac{\\operatorname{Pr}\\left(y=y_k\\right)}{1-\\operatorname{Pr}\\left(y=y_x\\right)}\\right) \\\\\n",
    "& =\\log \\left(\\frac{a_{k}-a_{k-1}}{1-a_{k}+a_{k-1}}\\right)=\\alpha_k \\\\\n",
    "&\n",
    "\\end{aligned}"
   ]
  },
  {
   "cell_type": "code",
   "execution_count": 13,
   "metadata": {
    "vscode": {
     "languageId": "r"
    }
   },
   "outputs": [
    {
     "data": {
      "text/html": [
       "<style>\n",
       ".dl-inline {width: auto; margin:0; padding: 0}\n",
       ".dl-inline>dt, .dl-inline>dd {float: none; width: auto; display: inline-block}\n",
       ".dl-inline>dt::after {content: \":\\0020\"; padding-right: .5ex}\n",
       ".dl-inline>dt:not(:first-of-type) {padding-left: .5ex}\n",
       "</style><dl class=dl-inline><dt>1</dt><dd>-1.92</dd><dt>2</dt><dd>-1.27</dd><dt>3</dt><dd>-0.72</dd><dt>4</dt><dd>0.25</dd><dt>5</dt><dd>0.89</dd><dt>6</dt><dd>1.77</dd><dt>7</dt><dd>Inf</dd></dl>\n"
      ],
      "text/latex": [
       "\\begin{description*}\n",
       "\\item[1] -1.92\n",
       "\\item[2] -1.27\n",
       "\\item[3] -0.72\n",
       "\\item[4] 0.25\n",
       "\\item[5] 0.89\n",
       "\\item[6] 1.77\n",
       "\\item[7] Inf\n",
       "\\end{description*}\n"
      ],
      "text/markdown": [
       "1\n",
       ":   -1.922\n",
       ":   -1.273\n",
       ":   -0.724\n",
       ":   0.255\n",
       ":   0.896\n",
       ":   1.777\n",
       ":   Inf\n",
       "\n"
      ],
      "text/plain": [
       "    1     2     3     4     5     6     7 \n",
       "-1.92 -1.27 -0.72  0.25  0.89  1.77   Inf "
      ]
     },
     "metadata": {},
     "output_type": "display_data"
    }
   ],
   "source": [
    "logit <- function(x) log(x/(1-x)) # convenience function\n",
    "round( lco <- logit( cum_pr_k ) , 2 )"
   ]
  },
  {
   "cell_type": "code",
   "execution_count": null,
   "metadata": {
    "vscode": {
     "languageId": "r"
    }
   },
   "outputs": [],
   "source": []
  }
 ],
 "metadata": {
  "kernelspec": {
   "display_name": "R",
   "language": "R",
   "name": "ir"
  },
  "language_info": {
   "codemirror_mode": "r",
   "file_extension": ".r",
   "mimetype": "text/x-r-source",
   "name": "R",
   "pygments_lexer": "r",
   "version": "4.2.3"
  },
  "orig_nbformat": 4
 },
 "nbformat": 4,
 "nbformat_minor": 2
}
