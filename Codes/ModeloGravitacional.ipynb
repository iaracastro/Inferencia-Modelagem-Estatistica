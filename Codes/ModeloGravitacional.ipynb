{
 "cells": [
  {
   "cell_type": "code",
   "execution_count": 111,
   "metadata": {
    "vscode": {
     "languageId": "r"
    }
   },
   "outputs": [],
   "source": [
    "library(tidyverse)\n",
    "library(tidyr)\n",
    "library(MASS)"
   ]
  },
  {
   "cell_type": "code",
   "execution_count": 117,
   "metadata": {
    "vscode": {
     "languageId": "r"
    }
   },
   "outputs": [
    {
     "data": {
      "text/html": [
       "<table class=\"dataframe\">\n",
       "<caption>A data.frame: 6 × 6</caption>\n",
       "<thead>\n",
       "\t<tr><th></th><th scope=col>i</th><th scope=col>j</th><th scope=col>pop_i</th><th scope=col>pop_j</th><th scope=col>distance</th><th scope=col>Fij</th></tr>\n",
       "\t<tr><th></th><th scope=col>&lt;int&gt;</th><th scope=col>&lt;int&gt;</th><th scope=col>&lt;int&gt;</th><th scope=col>&lt;int&gt;</th><th scope=col>&lt;dbl&gt;</th><th scope=col>&lt;dbl&gt;</th></tr>\n",
       "</thead>\n",
       "<tbody>\n",
       "\t<tr><th scope=row>1</th><td>20</td><td>12</td><td>201382</td><td>761887</td><td>155.0594</td><td>1.551119e+70</td></tr>\n",
       "\t<tr><th scope=row>2</th><td>14</td><td> 2</td><td>409122</td><td>255275</td><td>121.2057</td><td>1.418954e+68</td></tr>\n",
       "\t<tr><th scope=row>3</th><td> 2</td><td> 4</td><td>255275</td><td>626873</td><td>257.0906</td><td>3.930197e+69</td></tr>\n",
       "\t<tr><th scope=row>4</th><td> 9</td><td> 7</td><td>162696</td><td>934961</td><td>382.3464</td><td>4.501573e+69</td></tr>\n",
       "\t<tr><th scope=row>5</th><td> 4</td><td>11</td><td>626873</td><td>760746</td><td>366.5726</td><td>7.928176e+71</td></tr>\n",
       "\t<tr><th scope=row>6</th><td>14</td><td> 2</td><td>409122</td><td>255275</td><td>121.2057</td><td>1.416924e+68</td></tr>\n",
       "</tbody>\n",
       "</table>\n"
      ],
      "text/latex": [
       "A data.frame: 6 × 6\n",
       "\\begin{tabular}{r|llllll}\n",
       "  & i & j & pop\\_i & pop\\_j & distance & Fij\\\\\n",
       "  & <int> & <int> & <int> & <int> & <dbl> & <dbl>\\\\\n",
       "\\hline\n",
       "\t1 & 20 & 12 & 201382 & 761887 & 155.0594 & 1.551119e+70\\\\\n",
       "\t2 & 14 &  2 & 409122 & 255275 & 121.2057 & 1.418954e+68\\\\\n",
       "\t3 &  2 &  4 & 255275 & 626873 & 257.0906 & 3.930197e+69\\\\\n",
       "\t4 &  9 &  7 & 162696 & 934961 & 382.3464 & 4.501573e+69\\\\\n",
       "\t5 &  4 & 11 & 626873 & 760746 & 366.5726 & 7.928176e+71\\\\\n",
       "\t6 & 14 &  2 & 409122 & 255275 & 121.2057 & 1.416924e+68\\\\\n",
       "\\end{tabular}\n"
      ],
      "text/markdown": [
       "\n",
       "A data.frame: 6 × 6\n",
       "\n",
       "| <!--/--> | i &lt;int&gt; | j &lt;int&gt; | pop_i &lt;int&gt; | pop_j &lt;int&gt; | distance &lt;dbl&gt; | Fij &lt;dbl&gt; |\n",
       "|---|---|---|---|---|---|---|\n",
       "| 1 | 20 | 12 | 201382 | 761887 | 155.0594 | 1.551119e+70 |\n",
       "| 2 | 14 |  2 | 409122 | 255275 | 121.2057 | 1.418954e+68 |\n",
       "| 3 |  2 |  4 | 255275 | 626873 | 257.0906 | 3.930197e+69 |\n",
       "| 4 |  9 |  7 | 162696 | 934961 | 382.3464 | 4.501573e+69 |\n",
       "| 5 |  4 | 11 | 626873 | 760746 | 366.5726 | 7.928176e+71 |\n",
       "| 6 | 14 |  2 | 409122 | 255275 | 121.2057 | 1.416924e+68 |\n",
       "\n"
      ],
      "text/plain": [
       "  i  j  pop_i  pop_j  distance Fij         \n",
       "1 20 12 201382 761887 155.0594 1.551119e+70\n",
       "2 14  2 409122 255275 121.2057 1.418954e+68\n",
       "3  2  4 255275 626873 257.0906 3.930197e+69\n",
       "4  9  7 162696 934961 382.3464 4.501573e+69\n",
       "5  4 11 626873 760746 366.5726 7.928176e+71\n",
       "6 14  2 409122 255275 121.2057 1.416924e+68"
      ]
     },
     "metadata": {},
     "output_type": "display_data"
    }
   ],
   "source": [
    "set.seed(20230522)\n",
    "\n",
    "n_samples <- 1000\n",
    "n_units <- 20\n",
    "G <- 10\n",
    "beta_1 <- 5\n",
    "beta_2 <- 8\n",
    "\n",
    "m <- 0\n",
    "sigma <- 2\n",
    "\n",
    "pop_i <- sample(1000:1000000, size = n_units)\n",
    "pop_j <- sample(1000:1000000, size = n_units)\n",
    "pos_i <- runif(n_units, min = 0, max = 1000)\n",
    "pos_j <- runif(n_units, min = 0, max = 1000)\n",
    "\n",
    "# Generate data\n",
    "data <- data.frame(i = sample(1:n_units, size = n_samples, replace = TRUE),\n",
    "                   j = sample(1:n_units, size = n_samples, replace = TRUE))\n",
    "\n",
    "# Generates new i and j values when they are the same for each row\n",
    "data <- data %>%\n",
    "    mutate(i = ifelse(i == j, sample(1:n_units, size = n_samples, replace = TRUE), i),\n",
    "           j = ifelse(i == j, sample(1:n_units, size = n_samples, replace = TRUE), j))\n",
    "\n",
    "data$pop_i <- pop_i[data$i]\n",
    "data$pop_j <- pop_i[data$j]\n",
    "data$distance <- abs(pos_i[data$i] - pos_j[data$j])\n",
    "\n",
    "data$Fij <- (G * data$pop_i^beta_1 * data$pop_j^beta_2 / data$distance^sigma)\n",
    "data$Fij <- data$Fij * exp(rnorm(n_samples, mean = m, sd = 0.01))\n",
    "\n",
    "head(data)"
   ]
  },
  {
   "cell_type": "code",
   "execution_count": 118,
   "metadata": {
    "vscode": {
     "languageId": "r"
    }
   },
   "outputs": [
    {
     "data": {
      "text/plain": [
       "\n",
       "Call:\n",
       "glm(formula = Fij ~ log(pop_i) + log(pop_j) + log(distance), \n",
       "    family = gaussian(link = log), data = data)\n",
       "\n",
       "Deviance Residuals: \n",
       "       Min          1Q      Median          3Q         Max  \n",
       "-7.778e+72  -1.896e+67  -2.033e+64  -4.014e+59   4.457e+72  \n",
       "\n",
       "Coefficients:\n",
       "               Estimate Std. Error t value Pr(>|t|)    \n",
       "(Intercept)    2.475921   0.204910   12.08   <2e-16 ***\n",
       "log(pop_i)     4.996586   0.006869  727.39   <2e-16 ***\n",
       "log(pop_j)     7.990613   0.009370  852.76   <2e-16 ***\n",
       "log(distance) -1.999680   0.002163 -924.36   <2e-16 ***\n",
       "---\n",
       "Signif. codes:  0 '***' 0.001 '**' 0.01 '*' 0.05 '.' 0.1 ' ' 1\n",
       "\n",
       "(Dispersion parameter for gaussian family taken to be 1.3139e+143)\n",
       "\n",
       "    Null deviance: 1.6043e+150  on 999  degrees of freedom\n",
       "Residual deviance: 1.3086e+146  on 996  degrees of freedom\n",
       "AIC: 332387\n",
       "\n",
       "Number of Fisher Scoring iterations: 3\n"
      ]
     },
     "metadata": {},
     "output_type": "display_data"
    }
   ],
   "source": [
    "model <- glm(Fij ~ log(pop_i) + log(pop_j) + log(distance), data = data, family = gaussian(link = log))\n",
    "summary(model)"
   ]
  },
  {
   "cell_type": "code",
   "execution_count": 119,
   "metadata": {
    "vscode": {
     "languageId": "r"
    }
   },
   "outputs": [
    {
     "data": {
      "text/html": [
       "<table class=\"dataframe\">\n",
       "<caption>A data.frame: 4 × 3</caption>\n",
       "<thead>\n",
       "\t<tr><th scope=col>Variable</th><th scope=col>Found_Values</th><th scope=col>Real_Values</th></tr>\n",
       "\t<tr><th scope=col>&lt;chr&gt;</th><th scope=col>&lt;dbl&gt;</th><th scope=col>&lt;dbl&gt;</th></tr>\n",
       "</thead>\n",
       "<tbody>\n",
       "\t<tr><td>c1</td><td>11.892659</td><td>10</td></tr>\n",
       "\t<tr><td>c2</td><td> 4.996586</td><td> 5</td></tr>\n",
       "\t<tr><td>c3</td><td> 7.990613</td><td> 8</td></tr>\n",
       "\t<tr><td>c4</td><td>-1.999680</td><td>-2</td></tr>\n",
       "</tbody>\n",
       "</table>\n"
      ],
      "text/latex": [
       "A data.frame: 4 × 3\n",
       "\\begin{tabular}{lll}\n",
       " Variable & Found\\_Values & Real\\_Values\\\\\n",
       " <chr> & <dbl> & <dbl>\\\\\n",
       "\\hline\n",
       "\t c1 & 11.892659 & 10\\\\\n",
       "\t c2 &  4.996586 &  5\\\\\n",
       "\t c3 &  7.990613 &  8\\\\\n",
       "\t c4 & -1.999680 & -2\\\\\n",
       "\\end{tabular}\n"
      ],
      "text/markdown": [
       "\n",
       "A data.frame: 4 × 3\n",
       "\n",
       "| Variable &lt;chr&gt; | Found_Values &lt;dbl&gt; | Real_Values &lt;dbl&gt; |\n",
       "|---|---|---|\n",
       "| c1 | 11.892659 | 10 |\n",
       "| c2 |  4.996586 |  5 |\n",
       "| c3 |  7.990613 |  8 |\n",
       "| c4 | -1.999680 | -2 |\n",
       "\n"
      ],
      "text/plain": [
       "  Variable Found_Values Real_Values\n",
       "1 c1       11.892659    10         \n",
       "2 c2        4.996586     5         \n",
       "3 c3        7.990613     8         \n",
       "4 c4       -1.999680    -2         "
      ]
     },
     "metadata": {},
     "output_type": "display_data"
    }
   ],
   "source": [
    "c1 <- model$coefficients[[1]]\n",
    "c2 <- model$coefficients[[2]]\n",
    "c3 <- model$coefficients[[3]]\n",
    "c4 <- model$coefficients[[4]]\n",
    "\n",
    "coefficients_df <- data.frame(\n",
    "  Variable = c(\"c1\", \"c2\", \"c3\", \"c4\"),\n",
    "  Found_Values = c(exp(c1), c2, c3, c4),\n",
    "  Real_Values = c(G, beta_1, beta_2, -sigma)\n",
    ")\n",
    "\n",
    "coefficients_df "
   ]
  }
 ],
 "metadata": {
  "kernelspec": {
   "display_name": "R",
   "language": "R",
   "name": "ir"
  },
  "language_info": {
   "codemirror_mode": "r",
   "file_extension": ".r",
   "mimetype": "text/x-r-source",
   "name": "R",
   "pygments_lexer": "r",
   "version": "4.2.3"
  },
  "orig_nbformat": 4
 },
 "nbformat": 4,
 "nbformat_minor": 2
}
