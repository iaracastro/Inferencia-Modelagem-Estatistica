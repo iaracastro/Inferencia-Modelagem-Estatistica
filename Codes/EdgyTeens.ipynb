{
 "cells": [
  {
   "attachments": {},
   "cell_type": "markdown",
   "metadata": {},
   "source": [
    "### Contexto e Objetivo\n",
    "\n",
    "Entendendo e explicando o comportamento de fumo em adolescentes australianos\n",
    "Neste exercício queremos estudar a probabilidade de um adolescente fumar a partir de dados longitudinais, isto é, amostrados ao longo do tempo.\n",
    "\n",
    "Os dados foram medidos em três \"ondas\" de amostragem (waves) e variáveis como se os pais fumam e o sexo do adolescente foram medidas. Os dados têm essa cara:"
   ]
  },
  {
   "cell_type": "code",
   "execution_count": 37,
   "metadata": {
    "vscode": {
     "languageId": "r"
    }
   },
   "outputs": [
    {
     "name": "stderr",
     "output_type": "stream",
     "text": [
      "\u001b[1mRows: \u001b[22m\u001b[34m8730\u001b[39m \u001b[1mColumns: \u001b[22m\u001b[34m5\u001b[39m\n",
      "\u001b[36m──\u001b[39m \u001b[1mColumn specification\u001b[22m \u001b[36m────────────────────────────────────────────────────────\u001b[39m\n",
      "\u001b[1mDelimiter:\u001b[22m \",\"\n",
      "\u001b[32mdbl\u001b[39m (5): newid, sex.1.F., parsmk, wave, smkreg\n",
      "\n",
      "\u001b[36mℹ\u001b[39m Use `spec()` to retrieve the full column specification for this data.\n",
      "\u001b[36mℹ\u001b[39m Specify the column types or set `show_col_types = FALSE` to quiet this message.\n"
     ]
    }
   ],
   "source": [
    "library(tidyverse)\n",
    "library(GGally)  # ggpairs\n",
    "library(MuMIn)  # AICc (Akaike Information Criterion corrected for small sample size)\n",
    "library(readr)\n",
    "library(ggplot2)\n",
    "library(gridExtra)\n",
    "library(rstanarm)\n",
    "library(arm)\n",
    "library(lattice)\n",
    "library(lme4)\n",
    "\n",
    "urlfile = \"https://raw.githubusercontent.com/maxbiostat/stats_modelling/master/data/edgy_teens.csv\"\n",
    "data <- read_csv(url(urlfile))"
   ]
  },
  {
   "cell_type": "code",
   "execution_count": 38,
   "metadata": {
    "vscode": {
     "languageId": "r"
    }
   },
   "outputs": [
    {
     "data": {
      "text/html": [
       "<table class=\"dataframe\">\n",
       "<caption>A tibble: 6 × 5</caption>\n",
       "<thead>\n",
       "\t<tr><th scope=col>newid</th><th scope=col>sex.1.F.</th><th scope=col>parsmk</th><th scope=col>wave</th><th scope=col>smkreg</th></tr>\n",
       "\t<tr><th scope=col>&lt;dbl&gt;</th><th scope=col>&lt;dbl&gt;</th><th scope=col>&lt;dbl&gt;</th><th scope=col>&lt;dbl&gt;</th><th scope=col>&lt;dbl&gt;</th></tr>\n",
       "</thead>\n",
       "<tbody>\n",
       "\t<tr><td>1</td><td>1</td><td>0</td><td>1</td><td>0</td></tr>\n",
       "\t<tr><td>1</td><td>1</td><td>0</td><td>2</td><td>0</td></tr>\n",
       "\t<tr><td>1</td><td>1</td><td>0</td><td>4</td><td>0</td></tr>\n",
       "\t<tr><td>1</td><td>1</td><td>0</td><td>5</td><td>0</td></tr>\n",
       "\t<tr><td>1</td><td>1</td><td>0</td><td>6</td><td>0</td></tr>\n",
       "\t<tr><td>2</td><td>0</td><td>0</td><td>1</td><td>0</td></tr>\n",
       "</tbody>\n",
       "</table>\n"
      ],
      "text/latex": [
       "A tibble: 6 × 5\n",
       "\\begin{tabular}{lllll}\n",
       " newid & sex.1.F. & parsmk & wave & smkreg\\\\\n",
       " <dbl> & <dbl> & <dbl> & <dbl> & <dbl>\\\\\n",
       "\\hline\n",
       "\t 1 & 1 & 0 & 1 & 0\\\\\n",
       "\t 1 & 1 & 0 & 2 & 0\\\\\n",
       "\t 1 & 1 & 0 & 4 & 0\\\\\n",
       "\t 1 & 1 & 0 & 5 & 0\\\\\n",
       "\t 1 & 1 & 0 & 6 & 0\\\\\n",
       "\t 2 & 0 & 0 & 1 & 0\\\\\n",
       "\\end{tabular}\n"
      ],
      "text/markdown": [
       "\n",
       "A tibble: 6 × 5\n",
       "\n",
       "| newid &lt;dbl&gt; | sex.1.F. &lt;dbl&gt; | parsmk &lt;dbl&gt; | wave &lt;dbl&gt; | smkreg &lt;dbl&gt; |\n",
       "|---|---|---|---|---|\n",
       "| 1 | 1 | 0 | 1 | 0 |\n",
       "| 1 | 1 | 0 | 2 | 0 |\n",
       "| 1 | 1 | 0 | 4 | 0 |\n",
       "| 1 | 1 | 0 | 5 | 0 |\n",
       "| 1 | 1 | 0 | 6 | 0 |\n",
       "| 2 | 0 | 0 | 1 | 0 |\n",
       "\n"
      ],
      "text/plain": [
       "  newid sex.1.F. parsmk wave smkreg\n",
       "1 1     1        0      1    0     \n",
       "2 1     1        0      2    0     \n",
       "3 1     1        0      4    0     \n",
       "4 1     1        0      5    0     \n",
       "5 1     1        0      6    0     \n",
       "6 2     0        0      1    0     "
      ]
     },
     "metadata": {},
     "output_type": "display_data"
    }
   ],
   "source": [
    "head(data)"
   ]
  },
  {
   "cell_type": "code",
   "execution_count": 40,
   "metadata": {
    "vscode": {
     "languageId": "r"
    }
   },
   "outputs": [
    {
     "data": {
      "text/html": [
       "<style>\n",
       ".dl-inline {width: auto; margin:0; padding: 0}\n",
       ".dl-inline>dt, .dl-inline>dd {float: none; width: auto; display: inline-block}\n",
       ".dl-inline>dt::after {content: \":\\0020\"; padding-right: .5ex}\n",
       ".dl-inline>dt:not(:first-of-type) {padding-left: .5ex}\n",
       "</style><dl class=dl-inline><dt>newid</dt><dd>0</dd><dt>sex.1.F.</dt><dd>0</dd><dt>parsmk</dt><dd>0</dd><dt>wave</dt><dd>0</dd><dt>smkreg</dt><dd>0</dd></dl>\n"
      ],
      "text/latex": [
       "\\begin{description*}\n",
       "\\item[newid] 0\n",
       "\\item[sex.1.F.] 0\n",
       "\\item[parsmk] 0\n",
       "\\item[wave] 0\n",
       "\\item[smkreg] 0\n",
       "\\end{description*}\n"
      ],
      "text/markdown": [
       "newid\n",
       ":   0sex.1.F.\n",
       ":   0parsmk\n",
       ":   0wave\n",
       ":   0smkreg\n",
       ":   0\n",
       "\n"
      ],
      "text/plain": [
       "   newid sex.1.F.   parsmk     wave   smkreg \n",
       "       0        0        0        0        0 "
      ]
     },
     "metadata": {},
     "output_type": "display_data"
    }
   ],
   "source": [
    "na_sum <- colSums(is.na(data))\n",
    "na_sum"
   ]
  },
  {
   "cell_type": "code",
   "execution_count": 36,
   "metadata": {
    "vscode": {
     "languageId": "r"
    }
   },
   "outputs": [
    {
     "data": {
      "text/html": [
       "<table class=\"dataframe\">\n",
       "<caption>A grouped_df: 6 × 11</caption>\n",
       "<thead>\n",
       "\t<tr><th scope=col>newid</th><th scope=col>sex.1.F.</th><th scope=col>parents_smoke</th><th scope=col>wave</th><th scope=col>smkreg</th><th scope=col>wave_1</th><th scope=col>wave_2</th><th scope=col>wave_3</th><th scope=col>wave_4</th><th scope=col>wave_5</th><th scope=col>wave_6</th></tr>\n",
       "\t<tr><th scope=col>&lt;dbl&gt;</th><th scope=col>&lt;dbl&gt;</th><th scope=col>&lt;dbl&gt;</th><th scope=col>&lt;dbl&gt;</th><th scope=col>&lt;dbl&gt;</th><th scope=col>&lt;fct&gt;</th><th scope=col>&lt;fct&gt;</th><th scope=col>&lt;fct&gt;</th><th scope=col>&lt;fct&gt;</th><th scope=col>&lt;fct&gt;</th><th scope=col>&lt;fct&gt;</th></tr>\n",
       "</thead>\n",
       "<tbody>\n",
       "\t<tr><td>1</td><td>1</td><td>0</td><td>1</td><td>0</td><td>1</td><td>0</td><td>0</td><td>0</td><td>0</td><td>0</td></tr>\n",
       "\t<tr><td>1</td><td>1</td><td>0</td><td>2</td><td>0</td><td>0</td><td>1</td><td>0</td><td>0</td><td>0</td><td>0</td></tr>\n",
       "\t<tr><td>1</td><td>1</td><td>0</td><td>4</td><td>0</td><td>0</td><td>0</td><td>0</td><td>1</td><td>0</td><td>0</td></tr>\n",
       "\t<tr><td>1</td><td>1</td><td>0</td><td>5</td><td>0</td><td>0</td><td>0</td><td>0</td><td>0</td><td>1</td><td>0</td></tr>\n",
       "\t<tr><td>1</td><td>1</td><td>0</td><td>6</td><td>0</td><td>0</td><td>0</td><td>0</td><td>0</td><td>0</td><td>1</td></tr>\n",
       "\t<tr><td>2</td><td>0</td><td>0</td><td>1</td><td>0</td><td>1</td><td>0</td><td>0</td><td>0</td><td>0</td><td>0</td></tr>\n",
       "</tbody>\n",
       "</table>\n"
      ],
      "text/latex": [
       "A grouped\\_df: 6 × 11\n",
       "\\begin{tabular}{lllllllllll}\n",
       " newid & sex.1.F. & parents\\_smoke & wave & smkreg & wave\\_1 & wave\\_2 & wave\\_3 & wave\\_4 & wave\\_5 & wave\\_6\\\\\n",
       " <dbl> & <dbl> & <dbl> & <dbl> & <dbl> & <fct> & <fct> & <fct> & <fct> & <fct> & <fct>\\\\\n",
       "\\hline\n",
       "\t 1 & 1 & 0 & 1 & 0 & 1 & 0 & 0 & 0 & 0 & 0\\\\\n",
       "\t 1 & 1 & 0 & 2 & 0 & 0 & 1 & 0 & 0 & 0 & 0\\\\\n",
       "\t 1 & 1 & 0 & 4 & 0 & 0 & 0 & 0 & 1 & 0 & 0\\\\\n",
       "\t 1 & 1 & 0 & 5 & 0 & 0 & 0 & 0 & 0 & 1 & 0\\\\\n",
       "\t 1 & 1 & 0 & 6 & 0 & 0 & 0 & 0 & 0 & 0 & 1\\\\\n",
       "\t 2 & 0 & 0 & 1 & 0 & 1 & 0 & 0 & 0 & 0 & 0\\\\\n",
       "\\end{tabular}\n"
      ],
      "text/markdown": [
       "\n",
       "A grouped_df: 6 × 11\n",
       "\n",
       "| newid &lt;dbl&gt; | sex.1.F. &lt;dbl&gt; | parents_smoke &lt;dbl&gt; | wave &lt;dbl&gt; | smkreg &lt;dbl&gt; | wave_1 &lt;fct&gt; | wave_2 &lt;fct&gt; | wave_3 &lt;fct&gt; | wave_4 &lt;fct&gt; | wave_5 &lt;fct&gt; | wave_6 &lt;fct&gt; |\n",
       "|---|---|---|---|---|---|---|---|---|---|---|\n",
       "| 1 | 1 | 0 | 1 | 0 | 1 | 0 | 0 | 0 | 0 | 0 |\n",
       "| 1 | 1 | 0 | 2 | 0 | 0 | 1 | 0 | 0 | 0 | 0 |\n",
       "| 1 | 1 | 0 | 4 | 0 | 0 | 0 | 0 | 1 | 0 | 0 |\n",
       "| 1 | 1 | 0 | 5 | 0 | 0 | 0 | 0 | 0 | 1 | 0 |\n",
       "| 1 | 1 | 0 | 6 | 0 | 0 | 0 | 0 | 0 | 0 | 1 |\n",
       "| 2 | 0 | 0 | 1 | 0 | 1 | 0 | 0 | 0 | 0 | 0 |\n",
       "\n"
      ],
      "text/plain": [
       "  newid sex.1.F. parents_smoke wave smkreg wave_1 wave_2 wave_3 wave_4 wave_5\n",
       "1 1     1        0             1    0      1      0      0      0      0     \n",
       "2 1     1        0             2    0      0      1      0      0      0     \n",
       "3 1     1        0             4    0      0      0      0      1      0     \n",
       "4 1     1        0             5    0      0      0      0      0      1     \n",
       "5 1     1        0             6    0      0      0      0      0      0     \n",
       "6 2     0        0             1    0      1      0      0      0      0     \n",
       "  wave_6\n",
       "1 0     \n",
       "2 0     \n",
       "3 0     \n",
       "4 0     \n",
       "5 1     \n",
       "6 0     "
      ]
     },
     "metadata": {},
     "output_type": "display_data"
    }
   ],
   "source": [
    "# group by newid such that we create a new column wave_{1,2,3} for each wave with value of parsmk\n",
    "values <- sort(unique(data$wave))\n",
    "for (i in values) {\n",
    "  data2 <- data %>% group_by(newid) %>% mutate(!!paste0(\"wave_\", i) := as.factor(ifelse(wave == i,1,0)))\n",
    "}\n",
    "\n",
    "names(data2)[names(data2) == \"parsmk\"] <- \"parents_smoke\"\n",
    "\n",
    "head(data2)"
   ]
  },
  {
   "cell_type": "code",
   "execution_count": null,
   "metadata": {
    "vscode": {
     "languageId": "r"
    }
   },
   "outputs": [],
   "source": []
  }
 ],
 "metadata": {
  "kernelspec": {
   "display_name": "R",
   "language": "R",
   "name": "ir"
  },
  "language_info": {
   "codemirror_mode": "r",
   "file_extension": ".r",
   "mimetype": "text/x-r-source",
   "name": "R",
   "pygments_lexer": "r",
   "version": "4.2.3"
  },
  "orig_nbformat": 4
 },
 "nbformat": 4,
 "nbformat_minor": 2
}
